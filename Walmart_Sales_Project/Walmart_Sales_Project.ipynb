{
 "cells": [
  {
   "cell_type": "markdown",
   "id": "c5103e41",
   "metadata": {},
   "source": [
    "# Walmart : predict weekly sales"
   ]
  },
  {
   "cell_type": "code",
   "execution_count": 167,
   "id": "94b072ae",
   "metadata": {},
   "outputs": [],
   "source": [
    "import pandas as pd\n",
    "import numpy as np\n",
    "import matplotlib.pyplot as plt\n",
    "import seaborn as sns\n",
    "import plotly.express as px\n",
    "\n",
    "from sklearn.model_selection import train_test_split, GridSearchCV\n",
    "from sklearn.base import BaseEstimator, TransformerMixin\n",
    "from sklearn.compose import ColumnTransformer\n",
    "from sklearn.preprocessing import OneHotEncoder, StandardScaler\n",
    "from sklearn.pipeline import Pipeline\n",
    "from sklearn.linear_model import LinearRegression\n",
    "from sklearn.metrics import r2_score\n",
    "\n",
    "%matplotlib inline"
   ]
  },
  {
   "cell_type": "code",
   "execution_count": 168,
   "id": "78bd132c",
   "metadata": {},
   "outputs": [
    {
     "data": {
      "text/html": [
       "<div>\n",
       "<style scoped>\n",
       "    .dataframe tbody tr th:only-of-type {\n",
       "        vertical-align: middle;\n",
       "    }\n",
       "\n",
       "    .dataframe tbody tr th {\n",
       "        vertical-align: top;\n",
       "    }\n",
       "\n",
       "    .dataframe thead th {\n",
       "        text-align: right;\n",
       "    }\n",
       "</style>\n",
       "<table border=\"1\" class=\"dataframe\">\n",
       "  <thead>\n",
       "    <tr style=\"text-align: right;\">\n",
       "      <th></th>\n",
       "      <th>Store</th>\n",
       "      <th>Date</th>\n",
       "      <th>Weekly_Sales</th>\n",
       "      <th>Holiday_Flag</th>\n",
       "      <th>Temperature</th>\n",
       "      <th>Fuel_Price</th>\n",
       "      <th>CPI</th>\n",
       "      <th>Unemployment</th>\n",
       "    </tr>\n",
       "  </thead>\n",
       "  <tbody>\n",
       "    <tr>\n",
       "      <th>0</th>\n",
       "      <td>6.00</td>\n",
       "      <td>18-02-2011</td>\n",
       "      <td>1572117.54</td>\n",
       "      <td>NaN</td>\n",
       "      <td>59.61</td>\n",
       "      <td>3.04</td>\n",
       "      <td>214.78</td>\n",
       "      <td>6.86</td>\n",
       "    </tr>\n",
       "    <tr>\n",
       "      <th>1</th>\n",
       "      <td>13.00</td>\n",
       "      <td>25-03-2011</td>\n",
       "      <td>1807545.43</td>\n",
       "      <td>0.00</td>\n",
       "      <td>42.38</td>\n",
       "      <td>3.44</td>\n",
       "      <td>128.62</td>\n",
       "      <td>7.47</td>\n",
       "    </tr>\n",
       "    <tr>\n",
       "      <th>2</th>\n",
       "      <td>17.00</td>\n",
       "      <td>27-07-2012</td>\n",
       "      <td>NaN</td>\n",
       "      <td>0.00</td>\n",
       "      <td>NaN</td>\n",
       "      <td>NaN</td>\n",
       "      <td>130.72</td>\n",
       "      <td>5.94</td>\n",
       "    </tr>\n",
       "    <tr>\n",
       "      <th>3</th>\n",
       "      <td>11.00</td>\n",
       "      <td>NaN</td>\n",
       "      <td>1244390.03</td>\n",
       "      <td>0.00</td>\n",
       "      <td>84.57</td>\n",
       "      <td>NaN</td>\n",
       "      <td>214.56</td>\n",
       "      <td>7.35</td>\n",
       "    </tr>\n",
       "    <tr>\n",
       "      <th>4</th>\n",
       "      <td>6.00</td>\n",
       "      <td>28-05-2010</td>\n",
       "      <td>1644470.66</td>\n",
       "      <td>0.00</td>\n",
       "      <td>78.89</td>\n",
       "      <td>2.76</td>\n",
       "      <td>212.41</td>\n",
       "      <td>7.09</td>\n",
       "    </tr>\n",
       "  </tbody>\n",
       "</table>\n",
       "</div>"
      ],
      "text/plain": [
       "   Store        Date  Weekly_Sales  Holiday_Flag  Temperature  Fuel_Price  \\\n",
       "0   6.00  18-02-2011    1572117.54           NaN        59.61        3.04   \n",
       "1  13.00  25-03-2011    1807545.43          0.00        42.38        3.44   \n",
       "2  17.00  27-07-2012           NaN          0.00          NaN         NaN   \n",
       "3  11.00         NaN    1244390.03          0.00        84.57         NaN   \n",
       "4   6.00  28-05-2010    1644470.66          0.00        78.89        2.76   \n",
       "\n",
       "     CPI  Unemployment  \n",
       "0 214.78          6.86  \n",
       "1 128.62          7.47  \n",
       "2 130.72          5.94  \n",
       "3 214.56          7.35  \n",
       "4 212.41          7.09  "
      ]
     },
     "execution_count": 168,
     "metadata": {},
     "output_type": "execute_result"
    }
   ],
   "source": [
    "data = pd.read_csv(\"/Users/yagmuraslan/Desktop/JEDHA/Supervised ML/PROJECTS S ML/Walmart_Store_sales.csv\")\n",
    "data.head()"
   ]
  },
  {
   "cell_type": "markdown",
   "id": "7d9c0784",
   "metadata": {},
   "source": [
    "# PART 1"
   ]
  },
  {
   "cell_type": "markdown",
   "id": "128c61ea",
   "metadata": {},
   "source": [
    "## EDA"
   ]
  },
  {
   "cell_type": "code",
   "execution_count": 169,
   "id": "dedfb098",
   "metadata": {},
   "outputs": [
    {
     "name": "stdout",
     "output_type": "stream",
     "text": [
      "Number of Observations\n"
     ]
    },
    {
     "data": {
      "text/plain": [
       "150"
      ]
     },
     "execution_count": 169,
     "metadata": {},
     "output_type": "execute_result"
    }
   ],
   "source": [
    "print(\"Number of Observations\")\n",
    "data.shape[0]"
   ]
  },
  {
   "cell_type": "code",
   "execution_count": 170,
   "id": "e9921ce2",
   "metadata": {},
   "outputs": [
    {
     "data": {
      "text/plain": [
       "136"
      ]
     },
     "execution_count": 170,
     "metadata": {},
     "output_type": "execute_result"
    }
   ],
   "source": [
    "#let's immediately drop all observations where the target variable missing\n",
    "data.dropna(subset=['Weekly_Sales'], inplace =True)\n",
    "len(data)"
   ]
  },
  {
   "cell_type": "code",
   "execution_count": 171,
   "id": "c3181aca",
   "metadata": {},
   "outputs": [
    {
     "name": "stdout",
     "output_type": "stream",
     "text": [
      "Percentage of missing values: % \n"
     ]
    },
    {
     "data": {
      "text/plain": [
       "Store           0.00\n",
       "Date           13.24\n",
       "Weekly_Sales    0.00\n",
       "Holiday_Flag    8.09\n",
       "Temperature    11.03\n",
       "Fuel_Price      8.82\n",
       "CPI             8.09\n",
       "Unemployment   10.29\n",
       "dtype: float64"
      ]
     },
     "metadata": {},
     "output_type": "display_data"
    }
   ],
   "source": [
    "print(\"Percentage of missing values: % \")\n",
    "display(100*data.isnull().sum()/data.shape[0])"
   ]
  },
  {
   "cell_type": "markdown",
   "id": "232f3c27",
   "metadata": {},
   "source": [
    "I will principally use the date variable for the imputation of the missing values and the exploratory data analysis rather than regression itself. Since the target variable is weekly sales anyway, in other words aggregation of an entire week, I do not find the creation of a \"day of the week\" variable particularly necessary. Yet, month and year variables are going to be useful for the imputations."
   ]
  },
  {
   "cell_type": "code",
   "execution_count": 172,
   "id": "e8cc0ebe",
   "metadata": {},
   "outputs": [],
   "source": [
    "df = data.copy() \n",
    "df['Date'] = pd.to_datetime(data['Date'], format='%d-%m-%Y')"
   ]
  },
  {
   "cell_type": "code",
   "execution_count": 173,
   "id": "23189eed",
   "metadata": {},
   "outputs": [],
   "source": [
    "df = data.copy() \n",
    "df['Date'] = pd.to_datetime(data['Date'], format='%d-%m-%Y')\n",
    "df[['Day', 'Month', 'Year']] = df['Date'].dt.strftime('%d %m %Y').str.split(expand=True)\n",
    "df[['Day', 'Month', 'Year']] = df[['Day', 'Month', 'Year']].astype('Int64', errors='ignore')"
   ]
  },
  {
   "cell_type": "code",
   "execution_count": 174,
   "id": "5edc8c84",
   "metadata": {},
   "outputs": [
    {
     "data": {
      "image/png": "[encoded data removed]",
      "text/plain": [
       "<Figure size 300x300 with 1 Axes>"
      ]
     },
     "metadata": {},
     "output_type": "display_data"
    },
    {
     "data": {
      "image/png": "[encoded data removed]",
      "text/plain": [
       "<Figure size 300x300 with 1 Axes>"
      ]
     },
     "metadata": {},
     "output_type": "display_data"
    },
    {
     "data": {
      "image/png": "[encoded data removed]",
      "text/plain": [
       "<Figure size 300x300 with 1 Axes>"
      ]
     },
     "metadata": {},
     "output_type": "display_data"
    },
    {
     "data": {
      "image/png": "[encoded data removed]",
      "text/plain": [
       "<Figure size 300x300 with 1 Axes>"
      ]
     },
     "metadata": {},
     "output_type": "display_data"
    },
    {
     "data": {
      "image/png": "[encoded data removed]",
      "text/plain": [
       "<Figure size 300x300 with 1 Axes>"
      ]
     },
     "metadata": {},
     "output_type": "display_data"
    }
   ],
   "source": [
    "for column in df[['Holiday_Flag','Temperature','Fuel_Price','CPI','Unemployment']]:\n",
    "    sns.displot(x=column, data=df, height = 3)\n",
    "    plt.show()"
   ]
  },
  {
   "cell_type": "code",
   "execution_count": 175,
   "id": "57db1e11",
   "metadata": {},
   "outputs": [
    {
     "data": {
      "text/html": [
       "<div>\n",
       "<style scoped>\n",
       "    .dataframe tbody tr th:only-of-type {\n",
       "        vertical-align: middle;\n",
       "    }\n",
       "\n",
       "    .dataframe tbody tr th {\n",
       "        vertical-align: top;\n",
       "    }\n",
       "\n",
       "    .dataframe thead th {\n",
       "        text-align: right;\n",
       "    }\n",
       "</style>\n",
       "<table border=\"1\" class=\"dataframe\">\n",
       "  <thead>\n",
       "    <tr style=\"text-align: right;\">\n",
       "      <th></th>\n",
       "      <th>Date</th>\n",
       "      <th>Year</th>\n",
       "      <th>Temperature</th>\n",
       "    </tr>\n",
       "  </thead>\n",
       "  <tbody>\n",
       "    <tr>\n",
       "      <th>0</th>\n",
       "      <td>2011-02-18</td>\n",
       "      <td>2011</td>\n",
       "      <td>59.61</td>\n",
       "    </tr>\n",
       "    <tr>\n",
       "      <th>1</th>\n",
       "      <td>2011-03-25</td>\n",
       "      <td>2011</td>\n",
       "      <td>42.38</td>\n",
       "    </tr>\n",
       "    <tr>\n",
       "      <th>3</th>\n",
       "      <td>NaT</td>\n",
       "      <td>&lt;NA&gt;</td>\n",
       "      <td>84.57</td>\n",
       "    </tr>\n",
       "    <tr>\n",
       "      <th>4</th>\n",
       "      <td>2010-05-28</td>\n",
       "      <td>2010</td>\n",
       "      <td>78.89</td>\n",
       "    </tr>\n",
       "    <tr>\n",
       "      <th>5</th>\n",
       "      <td>2010-05-28</td>\n",
       "      <td>2010</td>\n",
       "      <td>NaN</td>\n",
       "    </tr>\n",
       "    <tr>\n",
       "      <th>...</th>\n",
       "      <td>...</td>\n",
       "      <td>...</td>\n",
       "      <td>...</td>\n",
       "    </tr>\n",
       "    <tr>\n",
       "      <th>120</th>\n",
       "      <td>2010-09-17</td>\n",
       "      <td>2010</td>\n",
       "      <td>75.32</td>\n",
       "    </tr>\n",
       "    <tr>\n",
       "      <th>127</th>\n",
       "      <td>2010-07-09</td>\n",
       "      <td>2010</td>\n",
       "      <td>61.79</td>\n",
       "    </tr>\n",
       "    <tr>\n",
       "      <th>132</th>\n",
       "      <td>2011-07-22</td>\n",
       "      <td>2011</td>\n",
       "      <td>82.84</td>\n",
       "    </tr>\n",
       "    <tr>\n",
       "      <th>135</th>\n",
       "      <td>2010-09-10</td>\n",
       "      <td>2010</td>\n",
       "      <td>83.63</td>\n",
       "    </tr>\n",
       "    <tr>\n",
       "      <th>137</th>\n",
       "      <td>NaT</td>\n",
       "      <td>&lt;NA&gt;</td>\n",
       "      <td>88.44</td>\n",
       "    </tr>\n",
       "  </tbody>\n",
       "</table>\n",
       "<p>95 rows × 3 columns</p>\n",
       "</div>"
      ],
      "text/plain": [
       "          Date  Year  Temperature\n",
       "0   2011-02-18  2011        59.61\n",
       "1   2011-03-25  2011        42.38\n",
       "3          NaT  <NA>        84.57\n",
       "4   2010-05-28  2010        78.89\n",
       "5   2010-05-28  2010          NaN\n",
       "..         ...   ...          ...\n",
       "120 2010-09-17  2010        75.32\n",
       "127 2010-07-09  2010        61.79\n",
       "132 2011-07-22  2011        82.84\n",
       "135 2010-09-10  2010        83.63\n",
       "137        NaT  <NA>        88.44\n",
       "\n",
       "[95 rows x 3 columns]"
      ]
     },
     "execution_count": 175,
     "metadata": {},
     "output_type": "execute_result"
    }
   ],
   "source": [
    "df[\"Store\"] = df[\"Store\"].astype(int).astype(str)\n",
    "df.groupby('Store')[['Date', 'Year', 'Temperature']].head()"
   ]
  },
  {
   "cell_type": "code",
   "execution_count": 176,
   "id": "07201528",
   "metadata": {},
   "outputs": [
    {
     "data": {
      "application/vnd.plotly.v1+json": {
       "config": {
        "plotlyServerURL": "https://plot.ly"
       },
       "data": [
        {
         "hovertemplate": "Store=3<br>Date=%{x}<br>Weekly_Sales=%{y}<extra></extra>",
         "legendgroup": "3",
         "line": {
          "color": "#636efa",
          "dash": "solid"
         },
         "marker": {
          "symbol": "circle"
         },
         "mode": "lines+markers",
         "name": "3",
         "orientation": "v",
         "showlegend": true,
         "type": "scatter",
         "x": [
          "2010-02-05T00:00:00",
          "2010-06-04T00:00:00",
          "2010-06-18T00:00:00",
          "2011-09-23T00:00:00",
          "2011-10-07T00:00:00",
          "2011-11-18T00:00:00",
          "2012-01-13T00:00:00",
          "2012-05-11T00:00:00",
          "2012-06-22T00:00:00",
          "2012-10-19T00:00:00",
          null,
          null
         ],
         "xaxis": "x",
         "y": [
          461622.22,
          396968.8,
          364076.85,
          365248.94,
          403342.4,
          398838.97,
          367438.62,
          431985.36,
          419497.95,
          424513.08,
          418925.47,
          384200.69
         ],
         "yaxis": "y"
        },
        {
         "hovertemplate": "Store=1<br>Date=%{x}<br>Weekly_Sales=%{y}<extra></extra>",
         "legendgroup": "1",
         "line": {
          "color": "#EF553B",
          "dash": "solid"
         },
         "marker": {
          "symbol": "circle"
         },
         "mode": "lines+markers",
         "name": "1",
         "orientation": "v",
         "showlegend": true,
         "type": "scatter",
         "x": [
          "2010-02-12T00:00:00",
          "2010-05-14T00:00:00",
          "2010-08-27T00:00:00",
          "2011-05-27T00:00:00",
          "2011-08-05T00:00:00",
          "2011-11-18T00:00:00",
          "2012-03-16T00:00:00",
          "2012-10-19T00:00:00",
          null
         ],
         "xaxis": "x",
         "y": [
          1641957.44,
          1494251.5,
          1449142.92,
          1466046.67,
          1624383.75,
          1539483.7,
          1677472.78,
          1508068.77,
          1661767.33
         ],
         "yaxis": "y"
        },
        {
         "hovertemplate": "Store=8<br>Date=%{x}<br>Weekly_Sales=%{y}<extra></extra>",
         "legendgroup": "8",
         "line": {
          "color": "#00cc96",
          "dash": "solid"
         },
         "marker": {
          "symbol": "circle"
         },
         "mode": "lines+markers",
         "name": "8",
         "orientation": "v",
         "showlegend": true,
         "type": "scatter",
         "x": [
          "2010-02-12T00:00:00",
          "2010-03-12T00:00:00",
          "2010-08-27T00:00:00",
          "2010-09-17T00:00:00",
          "2011-08-12T00:00:00",
          "2011-08-19T00:00:00"
         ],
         "xaxis": "x",
         "y": [
          994801.4,
          860336.16,
          888816.78,
          836707.85,
          856796.1,
          895066.5
         ],
         "yaxis": "y"
        },
        {
         "hovertemplate": "Store=15<br>Date=%{x}<br>Weekly_Sales=%{y}<extra></extra>",
         "legendgroup": "15",
         "line": {
          "color": "#ab63fa",
          "dash": "solid"
         },
         "marker": {
          "symbol": "circle"
         },
         "mode": "lines+markers",
         "name": "15",
         "orientation": "v",
         "showlegend": true,
         "type": "scatter",
         "x": [
          "2010-02-19T00:00:00",
          "2011-06-03T00:00:00",
          "2012-03-16T00:00:00",
          null
         ],
         "xaxis": "x",
         "y": [
          660838.75,
          695396.19,
          570611.23,
          607475.44
         ],
         "yaxis": "y"
        },
        {
         "hovertemplate": "Store=2<br>Date=%{x}<br>Weekly_Sales=%{y}<extra></extra>",
         "legendgroup": "2",
         "line": {
          "color": "#FFA15A",
          "dash": "solid"
         },
         "marker": {
          "symbol": "circle"
         },
         "mode": "lines+markers",
         "name": "2",
         "orientation": "v",
         "showlegend": true,
         "type": "scatter",
         "x": [
          "2010-02-19T00:00:00",
          "2010-11-12T00:00:00",
          "2011-01-07T00:00:00",
          "2011-12-16T00:00:00",
          "2012-01-06T00:00:00",
          "2012-02-24T00:00:00",
          null,
          null
         ],
         "xaxis": "x",
         "y": [
          2124451.54,
          1916812.74,
          1758050.79,
          2432736.52,
          1799520.14,
          1861802.7,
          1853161.99,
          1797732.56
         ],
         "yaxis": "y"
        },
        {
         "hovertemplate": "Store=14<br>Date=%{x}<br>Weekly_Sales=%{y}<extra></extra>",
         "legendgroup": "14",
         "line": {
          "color": "#19d3f3",
          "dash": "solid"
         },
         "marker": {
          "symbol": "circle"
         },
         "mode": "lines+markers",
         "name": "14",
         "orientation": "v",
         "showlegend": true,
         "type": "scatter",
         "x": [
          "2010-02-26T00:00:00",
          "2010-06-18T00:00:00",
          "2010-12-10T00:00:00",
          "2011-01-07T00:00:00",
          "2011-03-25T00:00:00",
          "2011-05-06T00:00:00",
          "2011-07-15T00:00:00",
          "2012-02-10T00:00:00",
          "2012-02-17T00:00:00"
         ],
         "xaxis": "x",
         "y": [
          2095591.63,
          2248645.59,
          2600519.26,
          1864746.1,
          1879451.23,
          2095599.93,
          1953544.76,
          2077256.24,
          2020550.99
         ],
         "yaxis": "y"
        },
        {
         "hovertemplate": "Store=19<br>Date=%{x}<br>Weekly_Sales=%{y}<extra></extra>",
         "legendgroup": "19",
         "line": {
          "color": "#FF6692",
          "dash": "solid"
         },
         "marker": {
          "symbol": "circle"
         },
         "mode": "lines+markers",
         "name": "19",
         "orientation": "v",
         "showlegend": true,
         "type": "scatter",
         "x": [
          "2010-03-26T00:00:00",
          "2010-07-02T00:00:00",
          "2010-07-30T00:00:00",
          "2011-03-25T00:00:00",
          "2011-06-10T00:00:00",
          "2012-04-20T00:00:00",
          "2012-05-04T00:00:00",
          "2012-06-22T00:00:00"
         ],
         "xaxis": "x",
         "y": [
          1427023.45,
          1549018.68,
          1366395.96,
          1266564.94,
          1467473.63,
          1255087.26,
          1405007.44,
          1468350.36
         ],
         "yaxis": "y"
        },
        {
         "hovertemplate": "Store=7<br>Date=%{x}<br>Weekly_Sales=%{y}<extra></extra>",
         "legendgroup": "7",
         "line": {
          "color": "#B6E880",
          "dash": "solid"
         },
         "marker": {
          "symbol": "circle"
         },
         "mode": "lines+markers",
         "name": "7",
         "orientation": "v",
         "showlegend": true,
         "type": "scatter",
         "x": [
          "2010-04-02T00:00:00",
          "2011-05-13T00:00:00",
          "2011-08-26T00:00:00",
          "2012-02-10T00:00:00",
          "2012-04-20T00:00:00",
          "2012-05-25T00:00:00",
          "2012-09-07T00:00:00",
          null
         ],
         "xaxis": "x",
         "y": [
          561145.14,
          414094.05,
          629994.47,
          563460.77,
          457340.06,
          532739.77,
          597876.55,
          716388.81
         ],
         "yaxis": "y"
        },
        {
         "hovertemplate": "Store=17<br>Date=%{x}<br>Weekly_Sales=%{y}<extra></extra>",
         "legendgroup": "17",
         "line": {
          "color": "#FF97FF",
          "dash": "solid"
         },
         "marker": {
          "symbol": "circle"
         },
         "mode": "lines+markers",
         "name": "17",
         "orientation": "v",
         "showlegend": true,
         "type": "scatter",
         "x": [
          "2010-04-16T00:00:00",
          "2010-06-11T00:00:00",
          "2010-10-01T00:00:00",
          "2010-11-12T00:00:00",
          "2012-10-12T00:00:00",
          null,
          null
         ],
         "xaxis": "x",
         "y": [
          757738.76,
          845252.21,
          829207.27,
          855459.96,
          919878.34,
          986922.62,
          1046782.52
         ],
         "yaxis": "y"
        },
        {
         "hovertemplate": "Store=6<br>Date=%{x}<br>Weekly_Sales=%{y}<extra></extra>",
         "legendgroup": "6",
         "line": {
          "color": "#FECB52",
          "dash": "solid"
         },
         "marker": {
          "symbol": "circle"
         },
         "mode": "lines+markers",
         "name": "6",
         "orientation": "v",
         "showlegend": true,
         "type": "scatter",
         "x": [
          "2010-04-30T00:00:00",
          "2010-05-28T00:00:00",
          "2010-07-30T00:00:00",
          "2011-02-18T00:00:00",
          "2011-04-22T00:00:00",
          "2011-08-26T00:00:00"
         ],
         "xaxis": "x",
         "y": [
          1498080.16,
          1644470.66,
          1532308.78,
          1572117.54,
          1639358.93,
          1420405.41
         ],
         "yaxis": "y"
        },
        {
         "hovertemplate": "Store=5<br>Date=%{x}<br>Weekly_Sales=%{y}<extra></extra>",
         "legendgroup": "5",
         "line": {
          "color": "#636efa",
          "dash": "solid"
         },
         "marker": {
          "symbol": "circle"
         },
         "mode": "lines+markers",
         "name": "5",
         "orientation": "v",
         "showlegend": true,
         "type": "scatter",
         "x": [
          "2010-04-30T00:00:00",
          "2010-07-30T00:00:00",
          "2010-11-12T00:00:00",
          "2011-05-13T00:00:00",
          "2011-07-29T00:00:00",
          "2011-11-11T00:00:00",
          "2012-10-19T00:00:00",
          null
         ],
         "xaxis": "x",
         "y": [
          298697.84,
          268929.03,
          301827.36,
          290930.01,
          275142.17,
          311906.7,
          313358.15,
          359206.21
         ],
         "yaxis": "y"
        },
        {
         "hovertemplate": "Store=4<br>Date=%{x}<br>Weekly_Sales=%{y}<extra></extra>",
         "legendgroup": "4",
         "line": {
          "color": "#EF553B",
          "dash": "solid"
         },
         "marker": {
          "symbol": "circle"
         },
         "mode": "lines+markers",
         "name": "4",
         "orientation": "v",
         "showlegend": true,
         "type": "scatter",
         "x": [
          "2010-05-28T00:00:00",
          "2010-12-10T00:00:00",
          "2011-06-24T00:00:00",
          "2011-07-08T00:00:00",
          "2011-07-22T00:00:00",
          "2011-12-16T00:00:00"
         ],
         "xaxis": "x",
         "y": [
          1857533.7,
          2302504.86,
          2008344.92,
          2066541.86,
          2036231.39,
          2771397.17
         ],
         "yaxis": "y"
        },
        {
         "hovertemplate": "Store=18<br>Date=%{x}<br>Weekly_Sales=%{y}<extra></extra>",
         "legendgroup": "18",
         "line": {
          "color": "#00cc96",
          "dash": "solid"
         },
         "marker": {
          "symbol": "circle"
         },
         "mode": "lines+markers",
         "name": "18",
         "orientation": "v",
         "showlegend": true,
         "type": "scatter",
         "x": [
          "2010-05-28T00:00:00",
          "2010-08-06T00:00:00",
          "2010-10-15T00:00:00",
          "2010-12-17T00:00:00",
          "2011-04-15T00:00:00",
          "2012-04-27T00:00:00",
          "2012-10-12T00:00:00",
          null,
          null,
          null
         ],
         "xaxis": "x",
         "y": [
          1256282.79,
          1166117.85,
          1029618.1,
          1588430.71,
          988157.72,
          961186.23,
          1074079,
          1205307.5,
          1087051.26,
          1048134.24
         ],
         "yaxis": "y"
        },
        {
         "hovertemplate": "Store=9<br>Date=%{x}<br>Weekly_Sales=%{y}<extra></extra>",
         "legendgroup": "9",
         "line": {
          "color": "#ab63fa",
          "dash": "solid"
         },
         "marker": {
          "symbol": "circle"
         },
         "mode": "lines+markers",
         "name": "9",
         "orientation": "v",
         "showlegend": true,
         "type": "scatter",
         "x": [
          "2010-06-18T00:00:00",
          "2010-06-25T00:00:00",
          "2010-07-09T00:00:00",
          "2010-11-19T00:00:00"
         ],
         "xaxis": "x",
         "y": [
          513073.87,
          509263.28,
          485389.15,
          519823.3
         ],
         "yaxis": "y"
        },
        {
         "hovertemplate": "Store=10<br>Date=%{x}<br>Weekly_Sales=%{y}<extra></extra>",
         "legendgroup": "10",
         "line": {
          "color": "#FFA15A",
          "dash": "solid"
         },
         "marker": {
          "symbol": "circle"
         },
         "mode": "lines+markers",
         "name": "10",
         "orientation": "v",
         "showlegend": true,
         "type": "scatter",
         "x": [
          "2010-06-25T00:00:00",
          "2012-03-02T00:00:00",
          "2012-07-06T00:00:00",
          null,
          null
         ],
         "xaxis": "x",
         "y": [
          1768172.31,
          1990371.02,
          1805999.79,
          1714309.9,
          1831676.03
         ],
         "yaxis": "y"
        },
        {
         "hovertemplate": "Store=20<br>Date=%{x}<br>Weekly_Sales=%{y}<extra></extra>",
         "legendgroup": "20",
         "line": {
          "color": "#19d3f3",
          "dash": "solid"
         },
         "marker": {
          "symbol": "circle"
         },
         "mode": "lines+markers",
         "name": "20",
         "orientation": "v",
         "showlegend": true,
         "type": "scatter",
         "x": [
          "2010-06-25T00:00:00",
          "2010-09-24T00:00:00",
          "2010-12-31T00:00:00",
          "2012-02-03T00:00:00",
          null
         ],
         "xaxis": "x",
         "y": [
          1973135.87,
          1789687.65,
          1799737.79,
          2203523.2,
          2045837.55
         ],
         "yaxis": "y"
        },
        {
         "hovertemplate": "Store=13<br>Date=%{x}<br>Weekly_Sales=%{y}<extra></extra>",
         "legendgroup": "13",
         "line": {
          "color": "#FF6692",
          "dash": "solid"
         },
         "marker": {
          "symbol": "circle"
         },
         "mode": "lines+markers",
         "name": "13",
         "orientation": "v",
         "showlegend": true,
         "type": "scatter",
         "x": [
          "2010-07-02T00:00:00",
          "2010-08-20T00:00:00",
          "2010-12-10T00:00:00",
          "2011-03-25T00:00:00",
          "2011-08-12T00:00:00",
          "2011-09-23T00:00:00",
          "2012-01-20T00:00:00",
          "2012-03-16T00:00:00",
          "2012-06-01T00:00:00"
         ],
         "xaxis": "x",
         "y": [
          2018314.71,
          1997397.63,
          2461468.35,
          1807545.43,
          1970341.38,
          1847430.96,
          1811606.21,
          2025582.62,
          2035431.39
         ],
         "yaxis": "y"
        },
        {
         "hovertemplate": "Store=16<br>Date=%{x}<br>Weekly_Sales=%{y}<extra></extra>",
         "legendgroup": "16",
         "line": {
          "color": "#B6E880",
          "dash": "solid"
         },
         "marker": {
          "symbol": "circle"
         },
         "mode": "lines+markers",
         "name": "16",
         "orientation": "v",
         "showlegend": true,
         "type": "scatter",
         "x": [
          "2010-07-09T00:00:00",
          "2011-05-20T00:00:00",
          "2012-03-30T00:00:00",
          "2012-09-14T00:00:00"
         ],
         "xaxis": "x",
         "y": [
          614253.33,
          435397.19,
          485095.41,
          526525.16
         ],
         "yaxis": "y"
        },
        {
         "hovertemplate": "Store=12<br>Date=%{x}<br>Weekly_Sales=%{y}<extra></extra>",
         "legendgroup": "12",
         "line": {
          "color": "#FF97FF",
          "dash": "solid"
         },
         "marker": {
          "symbol": "circle"
         },
         "mode": "lines+markers",
         "name": "12",
         "orientation": "v",
         "showlegend": true,
         "type": "scatter",
         "x": [
          "2010-09-10T00:00:00",
          "2010-12-17T00:00:00",
          "2011-05-06T00:00:00",
          "2011-05-27T00:00:00",
          "2011-08-12T00:00:00"
         ],
         "xaxis": "x",
         "y": [
          903119.03,
          1295605.35,
          1021154.48,
          964332.51,
          955913.68
         ],
         "yaxis": "y"
        },
        {
         "hovertemplate": "Store=11<br>Date=%{x}<br>Weekly_Sales=%{y}<extra></extra>",
         "legendgroup": "11",
         "line": {
          "color": "#FECB52",
          "dash": "solid"
         },
         "marker": {
          "symbol": "circle"
         },
         "mode": "lines+markers",
         "name": "11",
         "orientation": "v",
         "showlegend": true,
         "type": "scatter",
         "x": [
          "2010-11-26T00:00:00",
          null,
          null
         ],
         "xaxis": "x",
         "y": [
          1757242.51,
          1244390.03,
          1569607.94
         ],
         "yaxis": "y"
        }
       ],
       "layout": {
        "legend": {
         "title": {
          "text": "Store"
         },
         "tracegroupgap": 0
        },
        "margin": {
         "t": 60
        },
        "template": {
         "data": {
          "bar": [
           {
            "error_x": {
             "color": "#2a3f5f"
            },
            "error_y": {
             "color": "#2a3f5f"
            },
            "marker": {
             "line": {
              "color": "#E5ECF6",
              "width": 0.5
             },
             "pattern": {
              "fillmode": "overlay",
              "size": 10,
              "solidity": 0.2
             }
            },
            "type": "bar"
           }
          ],
          "barpolar": [
           {
            "marker": {
             "line": {
              "color": "#E5ECF6",
              "width": 0.5
             },
             "pattern": {
              "fillmode": "overlay",
              "size": 10,
              "solidity": 0.2
             }
            },
            "type": "barpolar"
           }
          ],
          "carpet": [
           {
            "aaxis": {
             "endlinecolor": "#2a3f5f",
             "gridcolor": "white",
             "linecolor": "white",
             "minorgridcolor": "white",
             "startlinecolor": "#2a3f5f"
            },
            "baxis": {
             "endlinecolor": "#2a3f5f",
             "gridcolor": "white",
             "linecolor": "white",
             "minorgridcolor": "white",
             "startlinecolor": "#2a3f5f"
            },
            "type": "carpet"
           }
          ],
          "choropleth": [
           {
            "colorbar": {
             "outlinewidth": 0,
             "ticks": ""
            },
            "type": "choropleth"
           }
          ],
          "contour": [
           {
            "colorbar": {
             "outlinewidth": 0,
             "ticks": ""
            },
            "colorscale": [
             [
              0,
              "#0d0887"
             ],
             [
              0.1111111111111111,
              "#46039f"
             ],
             [
              0.2222222222222222,
              "#7201a8"
             ],
             [
              0.3333333333333333,
              "#9c179e"
             ],
             [
              0.4444444444444444,
              "#bd3786"
             ],
             [
              0.5555555555555556,
              "#d8576b"
             ],
             [
              0.6666666666666666,
              "#ed7953"
             ],
             [
              0.7777777777777778,
              "#fb9f3a"
             ],
             [
              0.8888888888888888,
              "#fdca26"
             ],
             [
              1,
              "#f0f921"
             ]
            ],
            "type": "contour"
           }
          ],
          "contourcarpet": [
           {
            "colorbar": {
             "outlinewidth": 0,
             "ticks": ""
            },
            "type": "contourcarpet"
           }
          ],
          "heatmap": [
           {
            "colorbar": {
             "outlinewidth": 0,
             "ticks": ""
            },
            "colorscale": [
             [
              0,
              "#0d0887"
             ],
             [
              0.1111111111111111,
              "#46039f"
             ],
             [
              0.2222222222222222,
              "#7201a8"
             ],
             [
              0.3333333333333333,
              "#9c179e"
             ],
             [
              0.4444444444444444,
              "#bd3786"
             ],
             [
              0.5555555555555556,
              "#d8576b"
             ],
             [
              0.6666666666666666,
              "#ed7953"
             ],
             [
              0.7777777777777778,
              "#fb9f3a"
             ],
             [
              0.8888888888888888,
              "#fdca26"
             ],
             [
              1,
              "#f0f921"
             ]
            ],
            "type": "heatmap"
           }
          ],
          "heatmapgl": [
           {
            "colorbar": {
             "outlinewidth": 0,
             "ticks": ""
            },
            "colorscale": [
             [
              0,
              "#0d0887"
             ],
             [
              0.1111111111111111,
              "#46039f"
             ],
             [
              0.2222222222222222,
              "#7201a8"
             ],
             [
              0.3333333333333333,
              "#9c179e"
             ],
             [
              0.4444444444444444,
              "#bd3786"
             ],
             [
              0.5555555555555556,
              "#d8576b"
             ],
             [
              0.6666666666666666,
              "#ed7953"
             ],
             [
              0.7777777777777778,
              "#fb9f3a"
             ],
             [
              0.8888888888888888,
              "#fdca26"
             ],
             [
              1,
              "#f0f921"
             ]
            ],
            "type": "heatmapgl"
           }
          ],
          "histogram": [
           {
            "marker": {
             "pattern": {
              "fillmode": "overlay",
              "size": 10,
              "solidity": 0.2
             }
            },
            "type": "histogram"
           }
          ],
          "histogram2d": [
           {
            "colorbar": {
             "outlinewidth": 0,
             "ticks": ""
            },
            "colorscale": [
             [
              0,
              "#0d0887"
             ],
             [
              0.1111111111111111,
              "#46039f"
             ],
             [
              0.2222222222222222,
              "#7201a8"
             ],
             [
              0.3333333333333333,
              "#9c179e"
             ],
             [
              0.4444444444444444,
              "#bd3786"
             ],
             [
              0.5555555555555556,
              "#d8576b"
             ],
             [
              0.6666666666666666,
              "#ed7953"
             ],
             [
              0.7777777777777778,
              "#fb9f3a"
             ],
             [
              0.8888888888888888,
              "#fdca26"
             ],
             [
              1,
              "#f0f921"
             ]
            ],
            "type": "histogram2d"
           }
          ],
          "histogram2dcontour": [
           {
            "colorbar": {
             "outlinewidth": 0,
             "ticks": ""
            },
            "colorscale": [
             [
              0,
              "#0d0887"
             ],
             [
              0.1111111111111111,
              "#46039f"
             ],
             [
              0.2222222222222222,
              "#7201a8"
             ],
             [
              0.3333333333333333,
              "#9c179e"
             ],
             [
              0.4444444444444444,
              "#bd3786"
             ],
             [
              0.5555555555555556,
              "#d8576b"
             ],
             [
              0.6666666666666666,
              "#ed7953"
             ],
             [
              0.7777777777777778,
              "#fb9f3a"
             ],
             [
              0.8888888888888888,
              "#fdca26"
             ],
             [
              1,
              "#f0f921"
             ]
            ],
            "type": "histogram2dcontour"
           }
          ],
          "mesh3d": [
           {
            "colorbar": {
             "outlinewidth": 0,
             "ticks": ""
            },
            "type": "mesh3d"
           }
          ],
          "parcoords": [
           {
            "line": {
             "colorbar": {
              "outlinewidth": 0,
              "ticks": ""
             }
            },
            "type": "parcoords"
           }
          ],
          "pie": [
           {
            "automargin": true,
            "type": "pie"
           }
          ],
          "scatter": [
           {
            "fillpattern": {
             "fillmode": "overlay",
             "size": 10,
             "solidity": 0.2
            },
            "type": "scatter"
           }
          ],
          "scatter3d": [
           {
            "line": {
             "colorbar": {
              "outlinewidth": 0,
              "ticks": ""
             }
            },
            "marker": {
             "colorbar": {
              "outlinewidth": 0,
              "ticks": ""
             }
            },
            "type": "scatter3d"
           }
          ],
          "scattercarpet": [
           {
            "marker": {
             "colorbar": {
              "outlinewidth": 0,
              "ticks": ""
             }
            },
            "type": "scattercarpet"
           }
          ],
          "scattergeo": [
           {
            "marker": {
             "colorbar": {
              "outlinewidth": 0,
              "ticks": ""
             }
            },
            "type": "scattergeo"
           }
          ],
          "scattergl": [
           {
            "marker": {
             "colorbar": {
              "outlinewidth": 0,
              "ticks": ""
             }
            },
            "type": "scattergl"
           }
          ],
          "scattermapbox": [
           {
            "marker": {
             "colorbar": {
              "outlinewidth": 0,
              "ticks": ""
             }
            },
            "type": "scattermapbox"
           }
          ],
          "scatterpolar": [
           {
            "marker": {
             "colorbar": {
              "outlinewidth": 0,
              "ticks": ""
             }
            },
            "type": "scatterpolar"
           }
          ],
          "scatterpolargl": [
           {
            "marker": {
             "colorbar": {
              "outlinewidth": 0,
              "ticks": ""
             }
            },
            "type": "scatterpolargl"
           }
          ],
          "scatterternary": [
           {
            "marker": {
             "colorbar": {
              "outlinewidth": 0,
              "ticks": ""
             }
            },
            "type": "scatterternary"
           }
          ],
          "surface": [
           {
            "colorbar": {
             "outlinewidth": 0,
             "ticks": ""
            },
            "colorscale": [
             [
              0,
              "#0d0887"
             ],
             [
              0.1111111111111111,
              "#46039f"
             ],
             [
              0.2222222222222222,
              "#7201a8"
             ],
             [
              0.3333333333333333,
              "#9c179e"
             ],
             [
              0.4444444444444444,
              "#bd3786"
             ],
             [
              0.5555555555555556,
              "#d8576b"
             ],
             [
              0.6666666666666666,
              "#ed7953"
             ],
             [
              0.7777777777777778,
              "#fb9f3a"
             ],
             [
              0.8888888888888888,
              "#fdca26"
             ],
             [
              1,
              "#f0f921"
             ]
            ],
            "type": "surface"
           }
          ],
          "table": [
           {
            "cells": {
             "fill": {
              "color": "#EBF0F8"
             },
             "line": {
              "color": "white"
             }
            },
            "header": {
             "fill": {
              "color": "#C8D4E3"
             },
             "line": {
              "color": "white"
             }
            },
            "type": "table"
           }
          ]
         },
         "layout": {
          "annotationdefaults": {
           "arrowcolor": "#2a3f5f",
           "arrowhead": 0,
           "arrowwidth": 1
          },
          "autotypenumbers": "strict",
          "coloraxis": {
           "colorbar": {
            "outlinewidth": 0,
            "ticks": ""
           }
          },
          "colorscale": {
           "diverging": [
            [
             0,
             "#8e0152"
            ],
            [
             0.1,
             "#c51b7d"
            ],
            [
             0.2,
             "#de77ae"
            ],
            [
             0.3,
             "#f1b6da"
            ],
            [
             0.4,
             "#fde0ef"
            ],
            [
             0.5,
             "#f7f7f7"
            ],
            [
             0.6,
             "#e6f5d0"
            ],
            [
             0.7,
             "#b8e186"
            ],
            [
             0.8,
             "#7fbc41"
            ],
            [
             0.9,
             "#4d9221"
            ],
            [
             1,
             "#276419"
            ]
           ],
           "sequential": [
            [
             0,
             "#0d0887"
            ],
            [
             0.1111111111111111,
             "#46039f"
            ],
            [
             0.2222222222222222,
             "#7201a8"
            ],
            [
             0.3333333333333333,
             "#9c179e"
            ],
            [
             0.4444444444444444,
             "#bd3786"
            ],
            [
             0.5555555555555556,
             "#d8576b"
            ],
            [
             0.6666666666666666,
             "#ed7953"
            ],
            [
             0.7777777777777778,
             "#fb9f3a"
            ],
            [
             0.8888888888888888,
             "#fdca26"
            ],
            [
             1,
             "#f0f921"
            ]
           ],
           "sequentialminus": [
            [
             0,
             "#0d0887"
            ],
            [
             0.1111111111111111,
             "#46039f"
            ],
            [
             0.2222222222222222,
             "#7201a8"
            ],
            [
             0.3333333333333333,
             "#9c179e"
            ],
            [
             0.4444444444444444,
             "#bd3786"
            ],
            [
             0.5555555555555556,
             "#d8576b"
            ],
            [
             0.6666666666666666,
             "#ed7953"
            ],
            [
             0.7777777777777778,
             "#fb9f3a"
            ],
            [
             0.8888888888888888,
             "#fdca26"
            ],
            [
             1,
             "#f0f921"
            ]
           ]
          },
          "colorway": [
           "#636efa",
           "#EF553B",
           "#00cc96",
           "#ab63fa",
           "#FFA15A",
           "#19d3f3",
           "#FF6692",
           "#B6E880",
           "#FF97FF",
           "#FECB52"
          ],
          "font": {
           "color": "#2a3f5f"
          },
          "geo": {
           "bgcolor": "white",
           "lakecolor": "white",
           "landcolor": "#E5ECF6",
           "showlakes": true,
           "showland": true,
           "subunitcolor": "white"
          },
          "hoverlabel": {
           "align": "left"
          },
          "hovermode": "closest",
          "mapbox": {
           "style": "light"
          },
          "paper_bgcolor": "white",
          "plot_bgcolor": "#E5ECF6",
          "polar": {
           "angularaxis": {
            "gridcolor": "white",
            "linecolor": "white",
            "ticks": ""
           },
           "bgcolor": "#E5ECF6",
           "radialaxis": {
            "gridcolor": "white",
            "linecolor": "white",
            "ticks": ""
           }
          },
          "scene": {
           "xaxis": {
            "backgroundcolor": "#E5ECF6",
            "gridcolor": "white",
            "gridwidth": 2,
            "linecolor": "white",
            "showbackground": true,
            "ticks": "",
            "zerolinecolor": "white"
           },
           "yaxis": {
            "backgroundcolor": "#E5ECF6",
            "gridcolor": "white",
            "gridwidth": 2,
            "linecolor": "white",
            "showbackground": true,
            "ticks": "",
            "zerolinecolor": "white"
           },
           "zaxis": {
            "backgroundcolor": "#E5ECF6",
            "gridcolor": "white",
            "gridwidth": 2,
            "linecolor": "white",
            "showbackground": true,
            "ticks": "",
            "zerolinecolor": "white"
           }
          },
          "shapedefaults": {
           "line": {
            "color": "#2a3f5f"
           }
          },
          "ternary": {
           "aaxis": {
            "gridcolor": "white",
            "linecolor": "white",
            "ticks": ""
           },
           "baxis": {
            "gridcolor": "white",
            "linecolor": "white",
            "ticks": ""
           },
           "bgcolor": "#E5ECF6",
           "caxis": {
            "gridcolor": "white",
            "linecolor": "white",
            "ticks": ""
           }
          },
          "title": {
           "x": 0.05
          },
          "xaxis": {
           "automargin": true,
           "gridcolor": "white",
           "linecolor": "white",
           "ticks": "",
           "title": {
            "standoff": 15
           },
           "zerolinecolor": "white",
           "zerolinewidth": 2
          },
          "yaxis": {
           "automargin": true,
           "gridcolor": "white",
           "linecolor": "white",
           "ticks": "",
           "title": {
            "standoff": 15
           },
           "zerolinecolor": "white",
           "zerolinewidth": 2
          }
         }
        },
        "xaxis": {
         "anchor": "y",
         "domain": [
          0,
          1
         ],
         "title": {
          "text": "Date"
         }
        },
        "yaxis": {
         "anchor": "x",
         "domain": [
          0,
          1
         ],
         "title": {
          "text": "Weekly_Sales"
         }
        }
       }
      },
      "text/html": [
       "<div>                            <div id=\"f5f52f76-c937-4624-a815-b255f17b2361\" class=\"plotly-graph-div\" style=\"height:525px; width:100%;\"></div>            <script type=\"text/javascript\">                require([\"plotly\"], function(Plotly) {                    window.PLOTLYENV=window.PLOTLYENV || {};                                    if (document.getElementById(\"f5f52f76-c937-4624-a815-b255f17b2361\")) {                    Plotly.newPlot(                        \"f5f52f76-c937-4624-a815-b255f17b2361\",                        [{\"hovertemplate\":\"Store=3\\u003cbr\\u003eDate=%{x}\\u003cbr\\u003eWeekly_Sales=%{y}\\u003cextra\\u003e\\u003c\\u002fextra\\u003e\",\"legendgroup\":\"3\",\"line\":{\"color\":\"#636efa\",\"dash\":\"solid\"},\"marker\":{\"symbol\":\"circle\"},\"mode\":\"lines+markers\",\"name\":\"3\",\"orientation\":\"v\",\"showlegend\":true,\"x\":[\"2010-02-05T00:00:00\",\"2010-06-04T00:00:00\",\"2010-06-18T00:00:00\",\"2011-09-23T00:00:00\",\"2011-10-07T00:00:00\",\"2011-11-18T00:00:00\",\"2012-01-13T00:00:00\",\"2012-05-11T00:00:00\",\"2012-06-22T00:00:00\",\"2012-10-19T00:00:00\",null,null],\"xaxis\":\"x\",\"y\":[461622.22,396968.8,364076.85,365248.94,403342.4,398838.97,367438.62,431985.36,419497.95,424513.08,418925.47,384200.69],\"yaxis\":\"y\",\"type\":\"scatter\"},{\"hovertemplate\":\"Store=1\\u003cbr\\u003eDate=%{x}\\u003cbr\\u003eWeekly_Sales=%{y}\\u003cextra\\u003e\\u003c\\u002fextra\\u003e\",\"legendgroup\":\"1\",\"line\":{\"color\":\"#EF553B\",\"dash\":\"solid\"},\"marker\":{\"symbol\":\"circle\"},\"mode\":\"lines+markers\",\"name\":\"1\",\"orientation\":\"v\",\"showlegend\":true,\"x\":[\"2010-02-12T00:00:00\",\"2010-05-14T00:00:00\",\"2010-08-27T00:00:00\",\"2011-05-27T00:00:00\",\"2011-08-05T00:00:00\",\"2011-11-18T00:00:00\",\"2012-03-16T00:00:00\",\"2012-10-19T00:00:00\",null],\"xaxis\":\"x\",\"y\":[1641957.44,1494251.5,1449142.92,1466046.67,1624383.75,1539483.7,1677472.78,1508068.77,1661767.33],\"yaxis\":\"y\",\"type\":\"scatter\"},{\"hovertemplate\":\"Store=8\\u003cbr\\u003eDate=%{x}\\u003cbr\\u003eWeekly_Sales=%{y}\\u003cextra\\u003e\\u003c\\u002fextra\\u003e\",\"legendgroup\":\"8\",\"line\":{\"color\":\"#00cc96\",\"dash\":\"solid\"},\"marker\":{\"symbol\":\"circle\"},\"mode\":\"lines+markers\",\"name\":\"8\",\"orientation\":\"v\",\"showlegend\":true,\"x\":[\"2010-02-12T00:00:00\",\"2010-03-12T00:00:00\",\"2010-08-27T00:00:00\",\"2010-09-17T00:00:00\",\"2011-08-12T00:00:00\",\"2011-08-19T00:00:00\"],\"xaxis\":\"x\",\"y\":[994801.4,860336.16,888816.78,836707.85,856796.1,895066.5],\"yaxis\":\"y\",\"type\":\"scatter\"},{\"hovertemplate\":\"Store=15\\u003cbr\\u003eDate=%{x}\\u003cbr\\u003eWeekly_Sales=%{y}\\u003cextra\\u003e\\u003c\\u002fextra\\u003e\",\"legendgroup\":\"15\",\"line\":{\"color\":\"#ab63fa\",\"dash\":\"solid\"},\"marker\":{\"symbol\":\"circle\"},\"mode\":\"lines+markers\",\"name\":\"15\",\"orientation\":\"v\",\"showlegend\":true,\"x\":[\"2010-02-19T00:00:00\",\"2011-06-03T00:00:00\",\"2012-03-16T00:00:00\",null],\"xaxis\":\"x\",\"y\":[660838.75,695396.19,570611.23,607475.44],\"yaxis\":\"y\",\"type\":\"scatter\"},{\"hovertemplate\":\"Store=2\\u003cbr\\u003eDate=%{x}\\u003cbr\\u003eWeekly_Sales=%{y}\\u003cextra\\u003e\\u003c\\u002fextra\\u003e\",\"legendgroup\":\"2\",\"line\":{\"color\":\"#FFA15A\",\"dash\":\"solid\"},\"marker\":{\"symbol\":\"circle\"},\"mode\":\"lines+markers\",\"name\":\"2\",\"orientation\":\"v\",\"showlegend\":true,\"x\":[\"2010-02-19T00:00:00\",\"2010-11-12T00:00:00\",\"2011-01-07T00:00:00\",\"2011-12-16T00:00:00\",\"2012-01-06T00:00:00\",\"2012-02-24T00:00:00\",null,null],\"xaxis\":\"x\",\"y\":[2124451.54,1916812.74,1758050.79,2432736.52,1799520.14,1861802.7,1853161.99,1797732.56],\"yaxis\":\"y\",\"type\":\"scatter\"},{\"hovertemplate\":\"Store=14\\u003cbr\\u003eDate=%{x}\\u003cbr\\u003eWeekly_Sales=%{y}\\u003cextra\\u003e\\u003c\\u002fextra\\u003e\",\"legendgroup\":\"14\",\"line\":{\"color\":\"#19d3f3\",\"dash\":\"solid\"},\"marker\":{\"symbol\":\"circle\"},\"mode\":\"lines+markers\",\"name\":\"14\",\"orientation\":\"v\",\"showlegend\":true,\"x\":[\"2010-02-26T00:00:00\",\"2010-06-18T00:00:00\",\"2010-12-10T00:00:00\",\"2011-01-07T00:00:00\",\"2011-03-25T00:00:00\",\"2011-05-06T00:00:00\",\"2011-07-15T00:00:00\",\"2012-02-10T00:00:00\",\"2012-02-17T00:00:00\"],\"xaxis\":\"x\",\"y\":[2095591.63,2248645.59,2600519.26,1864746.1,1879451.23,2095599.93,1953544.76,2077256.24,2020550.99],\"yaxis\":\"y\",\"type\":\"scatter\"},{\"hovertemplate\":\"Store=19\\u003cbr\\u003eDate=%{x}\\u003cbr\\u003eWeekly_Sales=%{y}\\u003cextra\\u003e\\u003c\\u002fextra\\u003e\",\"legendgroup\":\"19\",\"line\":{\"color\":\"#FF6692\",\"dash\":\"solid\"},\"marker\":{\"symbol\":\"circle\"},\"mode\":\"lines+markers\",\"name\":\"19\",\"orientation\":\"v\",\"showlegend\":true,\"x\":[\"2010-03-26T00:00:00\",\"2010-07-02T00:00:00\",\"2010-07-30T00:00:00\",\"2011-03-25T00:00:00\",\"2011-06-10T00:00:00\",\"2012-04-20T00:00:00\",\"2012-05-04T00:00:00\",\"2012-06-22T00:00:00\"],\"xaxis\":\"x\",\"y\":[1427023.45,1549018.68,1366395.96,1266564.94,1467473.63,1255087.26,1405007.44,1468350.36],\"yaxis\":\"y\",\"type\":\"scatter\"},{\"hovertemplate\":\"Store=7\\u003cbr\\u003eDate=%{x}\\u003cbr\\u003eWeekly_Sales=%{y}\\u003cextra\\u003e\\u003c\\u002fextra\\u003e\",\"legendgroup\":\"7\",\"line\":{\"color\":\"#B6E880\",\"dash\":\"solid\"},\"marker\":{\"symbol\":\"circle\"},\"mode\":\"lines+markers\",\"name\":\"7\",\"orientation\":\"v\",\"showlegend\":true,\"x\":[\"2010-04-02T00:00:00\",\"2011-05-13T00:00:00\",\"2011-08-26T00:00:00\",\"2012-02-10T00:00:00\",\"2012-04-20T00:00:00\",\"2012-05-25T00:00:00\",\"2012-09-07T00:00:00\",null],\"xaxis\":\"x\",\"y\":[561145.14,414094.05,629994.47,563460.77,457340.06,532739.77,597876.55,716388.81],\"yaxis\":\"y\",\"type\":\"scatter\"},{\"hovertemplate\":\"Store=17\\u003cbr\\u003eDate=%{x}\\u003cbr\\u003eWeekly_Sales=%{y}\\u003cextra\\u003e\\u003c\\u002fextra\\u003e\",\"legendgroup\":\"17\",\"line\":{\"color\":\"#FF97FF\",\"dash\":\"solid\"},\"marker\":{\"symbol\":\"circle\"},\"mode\":\"lines+markers\",\"name\":\"17\",\"orientation\":\"v\",\"showlegend\":true,\"x\":[\"2010-04-16T00:00:00\",\"2010-06-11T00:00:00\",\"2010-10-01T00:00:00\",\"2010-11-12T00:00:00\",\"2012-10-12T00:00:00\",null,null],\"xaxis\":\"x\",\"y\":[757738.76,845252.21,829207.27,855459.96,919878.34,986922.62,1046782.52],\"yaxis\":\"y\",\"type\":\"scatter\"},{\"hovertemplate\":\"Store=6\\u003cbr\\u003eDate=%{x}\\u003cbr\\u003eWeekly_Sales=%{y}\\u003cextra\\u003e\\u003c\\u002fextra\\u003e\",\"legendgroup\":\"6\",\"line\":{\"color\":\"#FECB52\",\"dash\":\"solid\"},\"marker\":{\"symbol\":\"circle\"},\"mode\":\"lines+markers\",\"name\":\"6\",\"orientation\":\"v\",\"showlegend\":true,\"x\":[\"2010-04-30T00:00:00\",\"2010-05-28T00:00:00\",\"2010-07-30T00:00:00\",\"2011-02-18T00:00:00\",\"2011-04-22T00:00:00\",\"2011-08-26T00:00:00\"],\"xaxis\":\"x\",\"y\":[1498080.16,1644470.66,1532308.78,1572117.54,1639358.93,1420405.41],\"yaxis\":\"y\",\"type\":\"scatter\"},{\"hovertemplate\":\"Store=5\\u003cbr\\u003eDate=%{x}\\u003cbr\\u003eWeekly_Sales=%{y}\\u003cextra\\u003e\\u003c\\u002fextra\\u003e\",\"legendgroup\":\"5\",\"line\":{\"color\":\"#636efa\",\"dash\":\"solid\"},\"marker\":{\"symbol\":\"circle\"},\"mode\":\"lines+markers\",\"name\":\"5\",\"orientation\":\"v\",\"showlegend\":true,\"x\":[\"2010-04-30T00:00:00\",\"2010-07-30T00:00:00\",\"2010-11-12T00:00:00\",\"2011-05-13T00:00:00\",\"2011-07-29T00:00:00\",\"2011-11-11T00:00:00\",\"2012-10-19T00:00:00\",null],\"xaxis\":\"x\",\"y\":[298697.84,268929.03,301827.36,290930.01,275142.17,311906.7,313358.15,359206.21],\"yaxis\":\"y\",\"type\":\"scatter\"},{\"hovertemplate\":\"Store=4\\u003cbr\\u003eDate=%{x}\\u003cbr\\u003eWeekly_Sales=%{y}\\u003cextra\\u003e\\u003c\\u002fextra\\u003e\",\"legendgroup\":\"4\",\"line\":{\"color\":\"#EF553B\",\"dash\":\"solid\"},\"marker\":{\"symbol\":\"circle\"},\"mode\":\"lines+markers\",\"name\":\"4\",\"orientation\":\"v\",\"showlegend\":true,\"x\":[\"2010-05-28T00:00:00\",\"2010-12-10T00:00:00\",\"2011-06-24T00:00:00\",\"2011-07-08T00:00:00\",\"2011-07-22T00:00:00\",\"2011-12-16T00:00:00\"],\"xaxis\":\"x\",\"y\":[1857533.7,2302504.86,2008344.92,2066541.86,2036231.39,2771397.17],\"yaxis\":\"y\",\"type\":\"scatter\"},{\"hovertemplate\":\"Store=18\\u003cbr\\u003eDate=%{x}\\u003cbr\\u003eWeekly_Sales=%{y}\\u003cextra\\u003e\\u003c\\u002fextra\\u003e\",\"legendgroup\":\"18\",\"line\":{\"color\":\"#00cc96\",\"dash\":\"solid\"},\"marker\":{\"symbol\":\"circle\"},\"mode\":\"lines+markers\",\"name\":\"18\",\"orientation\":\"v\",\"showlegend\":true,\"x\":[\"2010-05-28T00:00:00\",\"2010-08-06T00:00:00\",\"2010-10-15T00:00:00\",\"2010-12-17T00:00:00\",\"2011-04-15T00:00:00\",\"2012-04-27T00:00:00\",\"2012-10-12T00:00:00\",null,null,null],\"xaxis\":\"x\",\"y\":[1256282.79,1166117.85,1029618.1,1588430.71,988157.72,961186.23,1074079.0,1205307.5,1087051.26,1048134.24],\"yaxis\":\"y\",\"type\":\"scatter\"},{\"hovertemplate\":\"Store=9\\u003cbr\\u003eDate=%{x}\\u003cbr\\u003eWeekly_Sales=%{y}\\u003cextra\\u003e\\u003c\\u002fextra\\u003e\",\"legendgroup\":\"9\",\"line\":{\"color\":\"#ab63fa\",\"dash\":\"solid\"},\"marker\":{\"symbol\":\"circle\"},\"mode\":\"lines+markers\",\"name\":\"9\",\"orientation\":\"v\",\"showlegend\":true,\"x\":[\"2010-06-18T00:00:00\",\"2010-06-25T00:00:00\",\"2010-07-09T00:00:00\",\"2010-11-19T00:00:00\"],\"xaxis\":\"x\",\"y\":[513073.87,509263.28,485389.15,519823.3],\"yaxis\":\"y\",\"type\":\"scatter\"},{\"hovertemplate\":\"Store=10\\u003cbr\\u003eDate=%{x}\\u003cbr\\u003eWeekly_Sales=%{y}\\u003cextra\\u003e\\u003c\\u002fextra\\u003e\",\"legendgroup\":\"10\",\"line\":{\"color\":\"#FFA15A\",\"dash\":\"solid\"},\"marker\":{\"symbol\":\"circle\"},\"mode\":\"lines+markers\",\"name\":\"10\",\"orientation\":\"v\",\"showlegend\":true,\"x\":[\"2010-06-25T00:00:00\",\"2012-03-02T00:00:00\",\"2012-07-06T00:00:00\",null,null],\"xaxis\":\"x\",\"y\":[1768172.31,1990371.02,1805999.79,1714309.9,1831676.03],\"yaxis\":\"y\",\"type\":\"scatter\"},{\"hovertemplate\":\"Store=20\\u003cbr\\u003eDate=%{x}\\u003cbr\\u003eWeekly_Sales=%{y}\\u003cextra\\u003e\\u003c\\u002fextra\\u003e\",\"legendgroup\":\"20\",\"line\":{\"color\":\"#19d3f3\",\"dash\":\"solid\"},\"marker\":{\"symbol\":\"circle\"},\"mode\":\"lines+markers\",\"name\":\"20\",\"orientation\":\"v\",\"showlegend\":true,\"x\":[\"2010-06-25T00:00:00\",\"2010-09-24T00:00:00\",\"2010-12-31T00:00:00\",\"2012-02-03T00:00:00\",null],\"xaxis\":\"x\",\"y\":[1973135.87,1789687.65,1799737.79,2203523.2,2045837.55],\"yaxis\":\"y\",\"type\":\"scatter\"},{\"hovertemplate\":\"Store=13\\u003cbr\\u003eDate=%{x}\\u003cbr\\u003eWeekly_Sales=%{y}\\u003cextra\\u003e\\u003c\\u002fextra\\u003e\",\"legendgroup\":\"13\",\"line\":{\"color\":\"#FF6692\",\"dash\":\"solid\"},\"marker\":{\"symbol\":\"circle\"},\"mode\":\"lines+markers\",\"name\":\"13\",\"orientation\":\"v\",\"showlegend\":true,\"x\":[\"2010-07-02T00:00:00\",\"2010-08-20T00:00:00\",\"2010-12-10T00:00:00\",\"2011-03-25T00:00:00\",\"2011-08-12T00:00:00\",\"2011-09-23T00:00:00\",\"2012-01-20T00:00:00\",\"2012-03-16T00:00:00\",\"2012-06-01T00:00:00\"],\"xaxis\":\"x\",\"y\":[2018314.71,1997397.63,2461468.35,1807545.43,1970341.38,1847430.96,1811606.21,2025582.62,2035431.39],\"yaxis\":\"y\",\"type\":\"scatter\"},{\"hovertemplate\":\"Store=16\\u003cbr\\u003eDate=%{x}\\u003cbr\\u003eWeekly_Sales=%{y}\\u003cextra\\u003e\\u003c\\u002fextra\\u003e\",\"legendgroup\":\"16\",\"line\":{\"color\":\"#B6E880\",\"dash\":\"solid\"},\"marker\":{\"symbol\":\"circle\"},\"mode\":\"lines+markers\",\"name\":\"16\",\"orientation\":\"v\",\"showlegend\":true,\"x\":[\"2010-07-09T00:00:00\",\"2011-05-20T00:00:00\",\"2012-03-30T00:00:00\",\"2012-09-14T00:00:00\"],\"xaxis\":\"x\",\"y\":[614253.33,435397.19,485095.41,526525.16],\"yaxis\":\"y\",\"type\":\"scatter\"},{\"hovertemplate\":\"Store=12\\u003cbr\\u003eDate=%{x}\\u003cbr\\u003eWeekly_Sales=%{y}\\u003cextra\\u003e\\u003c\\u002fextra\\u003e\",\"legendgroup\":\"12\",\"line\":{\"color\":\"#FF97FF\",\"dash\":\"solid\"},\"marker\":{\"symbol\":\"circle\"},\"mode\":\"lines+markers\",\"name\":\"12\",\"orientation\":\"v\",\"showlegend\":true,\"x\":[\"2010-09-10T00:00:00\",\"2010-12-17T00:00:00\",\"2011-05-06T00:00:00\",\"2011-05-27T00:00:00\",\"2011-08-12T00:00:00\"],\"xaxis\":\"x\",\"y\":[903119.03,1295605.35,1021154.48,964332.51,955913.68],\"yaxis\":\"y\",\"type\":\"scatter\"},{\"hovertemplate\":\"Store=11\\u003cbr\\u003eDate=%{x}\\u003cbr\\u003eWeekly_Sales=%{y}\\u003cextra\\u003e\\u003c\\u002fextra\\u003e\",\"legendgroup\":\"11\",\"line\":{\"color\":\"#FECB52\",\"dash\":\"solid\"},\"marker\":{\"symbol\":\"circle\"},\"mode\":\"lines+markers\",\"name\":\"11\",\"orientation\":\"v\",\"showlegend\":true,\"x\":[\"2010-11-26T00:00:00\",null,null],\"xaxis\":\"x\",\"y\":[1757242.51,1244390.03,1569607.94],\"yaxis\":\"y\",\"type\":\"scatter\"}],                        {\"template\":{\"data\":{\"histogram2dcontour\":[{\"type\":\"histogram2dcontour\",\"colorbar\":{\"outlinewidth\":0,\"ticks\":\"\"},\"colorscale\":[[0.0,\"#0d0887\"],[0.1111111111111111,\"#46039f\"],[0.2222222222222222,\"#7201a8\"],[0.3333333333333333,\"#9c179e\"],[0.4444444444444444,\"#bd3786\"],[0.5555555555555556,\"#d8576b\"],[0.6666666666666666,\"#ed7953\"],[0.7777777777777778,\"#fb9f3a\"],[0.8888888888888888,\"#fdca26\"],[1.0,\"#f0f921\"]]}],\"choropleth\":[{\"type\":\"choropleth\",\"colorbar\":{\"outlinewidth\":0,\"ticks\":\"\"}}],\"histogram2d\":[{\"type\":\"histogram2d\",\"colorbar\":{\"outlinewidth\":0,\"ticks\":\"\"},\"colorscale\":[[0.0,\"#0d0887\"],[0.1111111111111111,\"#46039f\"],[0.2222222222222222,\"#7201a8\"],[0.3333333333333333,\"#9c179e\"],[0.4444444444444444,\"#bd3786\"],[0.5555555555555556,\"#d8576b\"],[0.6666666666666666,\"#ed7953\"],[0.7777777777777778,\"#fb9f3a\"],[0.8888888888888888,\"#fdca26\"],[1.0,\"#f0f921\"]]}],\"heatmap\":[{\"type\":\"heatmap\",\"colorbar\":{\"outlinewidth\":0,\"ticks\":\"\"},\"colorscale\":[[0.0,\"#0d0887\"],[0.1111111111111111,\"#46039f\"],[0.2222222222222222,\"#7201a8\"],[0.3333333333333333,\"#9c179e\"],[0.4444444444444444,\"#bd3786\"],[0.5555555555555556,\"#d8576b\"],[0.6666666666666666,\"#ed7953\"],[0.7777777777777778,\"#fb9f3a\"],[0.8888888888888888,\"#fdca26\"],[1.0,\"#f0f921\"]]}],\"heatmapgl\":[{\"type\":\"heatmapgl\",\"colorbar\":{\"outlinewidth\":0,\"ticks\":\"\"},\"colorscale\":[[0.0,\"#0d0887\"],[0.1111111111111111,\"#46039f\"],[0.2222222222222222,\"#7201a8\"],[0.3333333333333333,\"#9c179e\"],[0.4444444444444444,\"#bd3786\"],[0.5555555555555556,\"#d8576b\"],[0.6666666666666666,\"#ed7953\"],[0.7777777777777778,\"#fb9f3a\"],[0.8888888888888888,\"#fdca26\"],[1.0,\"#f0f921\"]]}],\"contourcarpet\":[{\"type\":\"contourcarpet\",\"colorbar\":{\"outlinewidth\":0,\"ticks\":\"\"}}],\"contour\":[{\"type\":\"contour\",\"colorbar\":{\"outlinewidth\":0,\"ticks\":\"\"},\"colorscale\":[[0.0,\"#0d0887\"],[0.1111111111111111,\"#46039f\"],[0.2222222222222222,\"#7201a8\"],[0.3333333333333333,\"#9c179e\"],[0.4444444444444444,\"#bd3786\"],[0.5555555555555556,\"#d8576b\"],[0.6666666666666666,\"#ed7953\"],[0.7777777777777778,\"#fb9f3a\"],[0.8888888888888888,\"#fdca26\"],[1.0,\"#f0f921\"]]}],\"surface\":[{\"type\":\"surface\",\"colorbar\":{\"outlinewidth\":0,\"ticks\":\"\"},\"colorscale\":[[0.0,\"#0d0887\"],[0.1111111111111111,\"#46039f\"],[0.2222222222222222,\"#7201a8\"],[0.3333333333333333,\"#9c179e\"],[0.4444444444444444,\"#bd3786\"],[0.5555555555555556,\"#d8576b\"],[0.6666666666666666,\"#ed7953\"],[0.7777777777777778,\"#fb9f3a\"],[0.8888888888888888,\"#fdca26\"],[1.0,\"#f0f921\"]]}],\"mesh3d\":[{\"type\":\"mesh3d\",\"colorbar\":{\"outlinewidth\":0,\"ticks\":\"\"}}],\"scatter\":[{\"fillpattern\":{\"fillmode\":\"overlay\",\"size\":10,\"solidity\":0.2},\"type\":\"scatter\"}],\"parcoords\":[{\"type\":\"parcoords\",\"line\":{\"colorbar\":{\"outlinewidth\":0,\"ticks\":\"\"}}}],\"scatterpolargl\":[{\"type\":\"scatterpolargl\",\"marker\":{\"colorbar\":{\"outlinewidth\":0,\"ticks\":\"\"}}}],\"bar\":[{\"error_x\":{\"color\":\"#2a3f5f\"},\"error_y\":{\"color\":\"#2a3f5f\"},\"marker\":{\"line\":{\"color\":\"#E5ECF6\",\"width\":0.5},\"pattern\":{\"fillmode\":\"overlay\",\"size\":10,\"solidity\":0.2}},\"type\":\"bar\"}],\"scattergeo\":[{\"type\":\"scattergeo\",\"marker\":{\"colorbar\":{\"outlinewidth\":0,\"ticks\":\"\"}}}],\"scatterpolar\":[{\"type\":\"scatterpolar\",\"marker\":{\"colorbar\":{\"outlinewidth\":0,\"ticks\":\"\"}}}],\"histogram\":[{\"marker\":{\"pattern\":{\"fillmode\":\"overlay\",\"size\":10,\"solidity\":0.2}},\"type\":\"histogram\"}],\"scattergl\":[{\"type\":\"scattergl\",\"marker\":{\"colorbar\":{\"outlinewidth\":0,\"ticks\":\"\"}}}],\"scatter3d\":[{\"type\":\"scatter3d\",\"line\":{\"colorbar\":{\"outlinewidth\":0,\"ticks\":\"\"}},\"marker\":{\"colorbar\":{\"outlinewidth\":0,\"ticks\":\"\"}}}],\"scattermapbox\":[{\"type\":\"scattermapbox\",\"marker\":{\"colorbar\":{\"outlinewidth\":0,\"ticks\":\"\"}}}],\"scatterternary\":[{\"type\":\"scatterternary\",\"marker\":{\"colorbar\":{\"outlinewidth\":0,\"ticks\":\"\"}}}],\"scattercarpet\":[{\"type\":\"scattercarpet\",\"marker\":{\"colorbar\":{\"outlinewidth\":0,\"ticks\":\"\"}}}],\"carpet\":[{\"aaxis\":{\"endlinecolor\":\"#2a3f5f\",\"gridcolor\":\"white\",\"linecolor\":\"white\",\"minorgridcolor\":\"white\",\"startlinecolor\":\"#2a3f5f\"},\"baxis\":{\"endlinecolor\":\"#2a3f5f\",\"gridcolor\":\"white\",\"linecolor\":\"white\",\"minorgridcolor\":\"white\",\"startlinecolor\":\"#2a3f5f\"},\"type\":\"carpet\"}],\"table\":[{\"cells\":{\"fill\":{\"color\":\"#EBF0F8\"},\"line\":{\"color\":\"white\"}},\"header\":{\"fill\":{\"color\":\"#C8D4E3\"},\"line\":{\"color\":\"white\"}},\"type\":\"table\"}],\"barpolar\":[{\"marker\":{\"line\":{\"color\":\"#E5ECF6\",\"width\":0.5},\"pattern\":{\"fillmode\":\"overlay\",\"size\":10,\"solidity\":0.2}},\"type\":\"barpolar\"}],\"pie\":[{\"automargin\":true,\"type\":\"pie\"}]},\"layout\":{\"autotypenumbers\":\"strict\",\"colorway\":[\"#636efa\",\"#EF553B\",\"#00cc96\",\"#ab63fa\",\"#FFA15A\",\"#19d3f3\",\"#FF6692\",\"#B6E880\",\"#FF97FF\",\"#FECB52\"],\"font\":{\"color\":\"#2a3f5f\"},\"hovermode\":\"closest\",\"hoverlabel\":{\"align\":\"left\"},\"paper_bgcolor\":\"white\",\"plot_bgcolor\":\"#E5ECF6\",\"polar\":{\"bgcolor\":\"#E5ECF6\",\"angularaxis\":{\"gridcolor\":\"white\",\"linecolor\":\"white\",\"ticks\":\"\"},\"radialaxis\":{\"gridcolor\":\"white\",\"linecolor\":\"white\",\"ticks\":\"\"}},\"ternary\":{\"bgcolor\":\"#E5ECF6\",\"aaxis\":{\"gridcolor\":\"white\",\"linecolor\":\"white\",\"ticks\":\"\"},\"baxis\":{\"gridcolor\":\"white\",\"linecolor\":\"white\",\"ticks\":\"\"},\"caxis\":{\"gridcolor\":\"white\",\"linecolor\":\"white\",\"ticks\":\"\"}},\"coloraxis\":{\"colorbar\":{\"outlinewidth\":0,\"ticks\":\"\"}},\"colorscale\":{\"sequential\":[[0.0,\"#0d0887\"],[0.1111111111111111,\"#46039f\"],[0.2222222222222222,\"#7201a8\"],[0.3333333333333333,\"#9c179e\"],[0.4444444444444444,\"#bd3786\"],[0.5555555555555556,\"#d8576b\"],[0.6666666666666666,\"#ed7953\"],[0.7777777777777778,\"#fb9f3a\"],[0.8888888888888888,\"#fdca26\"],[1.0,\"#f0f921\"]],\"sequentialminus\":[[0.0,\"#0d0887\"],[0.1111111111111111,\"#46039f\"],[0.2222222222222222,\"#7201a8\"],[0.3333333333333333,\"#9c179e\"],[0.4444444444444444,\"#bd3786\"],[0.5555555555555556,\"#d8576b\"],[0.6666666666666666,\"#ed7953\"],[0.7777777777777778,\"#fb9f3a\"],[0.8888888888888888,\"#fdca26\"],[1.0,\"#f0f921\"]],\"diverging\":[[0,\"#8e0152\"],[0.1,\"#c51b7d\"],[0.2,\"#de77ae\"],[0.3,\"#f1b6da\"],[0.4,\"#fde0ef\"],[0.5,\"#f7f7f7\"],[0.6,\"#e6f5d0\"],[0.7,\"#b8e186\"],[0.8,\"#7fbc41\"],[0.9,\"#4d9221\"],[1,\"#276419\"]]},\"xaxis\":{\"gridcolor\":\"white\",\"linecolor\":\"white\",\"ticks\":\"\",\"title\":{\"standoff\":15},\"zerolinecolor\":\"white\",\"automargin\":true,\"zerolinewidth\":2},\"yaxis\":{\"gridcolor\":\"white\",\"linecolor\":\"white\",\"ticks\":\"\",\"title\":{\"standoff\":15},\"zerolinecolor\":\"white\",\"automargin\":true,\"zerolinewidth\":2},\"scene\":{\"xaxis\":{\"backgroundcolor\":\"#E5ECF6\",\"gridcolor\":\"white\",\"linecolor\":\"white\",\"showbackground\":true,\"ticks\":\"\",\"zerolinecolor\":\"white\",\"gridwidth\":2},\"yaxis\":{\"backgroundcolor\":\"#E5ECF6\",\"gridcolor\":\"white\",\"linecolor\":\"white\",\"showbackground\":true,\"ticks\":\"\",\"zerolinecolor\":\"white\",\"gridwidth\":2},\"zaxis\":{\"backgroundcolor\":\"#E5ECF6\",\"gridcolor\":\"white\",\"linecolor\":\"white\",\"showbackground\":true,\"ticks\":\"\",\"zerolinecolor\":\"white\",\"gridwidth\":2}},\"shapedefaults\":{\"line\":{\"color\":\"#2a3f5f\"}},\"annotationdefaults\":{\"arrowcolor\":\"#2a3f5f\",\"arrowhead\":0,\"arrowwidth\":1},\"geo\":{\"bgcolor\":\"white\",\"landcolor\":\"#E5ECF6\",\"subunitcolor\":\"white\",\"showland\":true,\"showlakes\":true,\"lakecolor\":\"white\"},\"title\":{\"x\":0.05},\"mapbox\":{\"style\":\"light\"}}},\"xaxis\":{\"anchor\":\"y\",\"domain\":[0.0,1.0],\"title\":{\"text\":\"Date\"}},\"yaxis\":{\"anchor\":\"x\",\"domain\":[0.0,1.0],\"title\":{\"text\":\"Weekly_Sales\"}},\"legend\":{\"title\":{\"text\":\"Store\"},\"tracegroupgap\":0},\"margin\":{\"t\":60}},                        {\"responsive\": true}                    ).then(function(){\n",
       "                            \n",
       "var gd = document.getElementById('f5f52f76-c937-4624-a815-b255f17b2361');\n",
       "var x = new MutationObserver(function (mutations, observer) {{\n",
       "        var display = window.getComputedStyle(gd).display;\n",
       "        if (!display || display === 'none') {{\n",
       "            console.log([gd, 'removed!']);\n",
       "            Plotly.purge(gd);\n",
       "            observer.disconnect();\n",
       "        }}\n",
       "}});\n",
       "\n",
       "// Listen for the removal of the full notebook cells\n",
       "var notebookContainer = gd.closest('#notebook-container');\n",
       "if (notebookContainer) {{\n",
       "    x.observe(notebookContainer, {childList: true});\n",
       "}}\n",
       "\n",
       "// Listen for the clearing of the current output cell\n",
       "var outputEl = gd.closest('.output');\n",
       "if (outputEl) {{\n",
       "    x.observe(outputEl, {childList: true});\n",
       "}}\n",
       "\n",
       "                        })                };                });            </script>        </div>"
      ]
     },
     "metadata": {},
     "output_type": "display_data"
    }
   ],
   "source": [
    "fig = px.line(df.sort_values(by='Date', ascending=True), x=\"Date\", y=\"Weekly_Sales\", color=\"Store\", markers='Holiday_Flags')\n",
    "fig.show()"
   ]
  },
  {
   "cell_type": "code",
   "execution_count": 177,
   "id": "c5b277ec",
   "metadata": {},
   "outputs": [
    {
     "data": {
      "application/vnd.plotly.v1+json": {
       "config": {
        "plotlyServerURL": "https://plot.ly"
       },
       "data": [
        {
         "hovertemplate": "Store=2<br>Fuel_Price=%{x}<br>Weekly_Sales=%{y}<extra></extra>",
         "legendgroup": "2",
         "line": {
          "color": "#636efa",
          "dash": "solid"
         },
         "marker": {
          "symbol": "circle"
         },
         "mode": "lines",
         "name": "2",
         "orientation": "v",
         "showlegend": true,
         "type": "scatter",
         "x": [
          2.514,
          2.728,
          2.9760000000000004,
          3.48,
          3.555,
          3.786,
          null,
          null
         ],
         "xaxis": "x",
         "y": [
          2124451.54,
          1916812.74,
          1758050.79,
          1853161.99,
          1861802.7,
          1797732.56,
          2432736.52,
          1799520.14
         ],
         "yaxis": "y"
        },
        {
         "hovertemplate": "Store=8<br>Fuel_Price=%{x}<br>Weekly_Sales=%{y}<extra></extra>",
         "legendgroup": "8",
         "line": {
          "color": "#EF553B",
          "dash": "solid"
         },
         "marker": {
          "symbol": "circle"
         },
         "mode": "lines",
         "name": "8",
         "orientation": "v",
         "showlegend": true,
         "type": "scatter",
         "x": [
          2.548,
          2.582,
          2.619,
          3.554,
          3.638,
          null
         ],
         "xaxis": "x",
         "y": [
          994801.4,
          836707.85,
          888816.78,
          895066.5,
          856796.1,
          860336.16
         ],
         "yaxis": "y"
        },
        {
         "hovertemplate": "Store=1<br>Fuel_Price=%{x}<br>Weekly_Sales=%{y}<extra></extra>",
         "legendgroup": "1",
         "line": {
          "color": "#00cc96",
          "dash": "solid"
         },
         "marker": {
          "symbol": "circle"
         },
         "mode": "lines",
         "name": "1",
         "orientation": "v",
         "showlegend": true,
         "type": "scatter",
         "x": [
          2.548,
          2.619,
          2.854,
          3.3080000000000003,
          3.594,
          3.684,
          3.73,
          3.734,
          3.786
         ],
         "xaxis": "x",
         "y": [
          1641957.44,
          1449142.92,
          1494251.5,
          1539483.7,
          1508068.77,
          1624383.75,
          1661767.33,
          1677472.78,
          1466046.67
         ],
         "yaxis": "y"
        },
        {
         "hovertemplate": "Store=3<br>Fuel_Price=%{x}<br>Weekly_Sales=%{y}<extra></extra>",
         "legendgroup": "3",
         "line": {
          "color": "#ab63fa",
          "dash": "solid"
         },
         "marker": {
          "symbol": "circle"
         },
         "mode": "lines",
         "name": "3",
         "orientation": "v",
         "showlegend": true,
         "type": "scatter",
         "x": [
          2.572,
          2.637,
          2.667,
          2.705,
          3.261,
          3.285,
          3.3080000000000003,
          3.346,
          3.467,
          3.555,
          3.594,
          3.688
         ],
         "xaxis": "x",
         "y": [
          461622.22,
          364076.85,
          384200.69,
          396968.8,
          367438.62,
          403342.4,
          398838.97,
          419497.95,
          365248.94,
          418925.47,
          424513.08,
          431985.36
         ],
         "yaxis": "y"
        },
        {
         "hovertemplate": "Store=9<br>Fuel_Price=%{x}<br>Weekly_Sales=%{y}<extra></extra>",
         "legendgroup": "9",
         "line": {
          "color": "#FFA15A",
          "dash": "solid"
         },
         "marker": {
          "symbol": "circle"
         },
         "mode": "lines",
         "name": "9",
         "orientation": "v",
         "showlegend": true,
         "type": "scatter",
         "x": [
          2.637,
          2.642,
          2.653,
          2.7710000000000004
         ],
         "xaxis": "x",
         "y": [
          513073.87,
          485389.15,
          509263.28,
          519823.3
         ],
         "yaxis": "y"
        },
        {
         "hovertemplate": "Store=6<br>Fuel_Price=%{x}<br>Weekly_Sales=%{y}<extra></extra>",
         "legendgroup": "6",
         "line": {
          "color": "#19d3f3",
          "dash": "solid"
         },
         "marker": {
          "symbol": "circle"
         },
         "mode": "lines",
         "name": "6",
         "orientation": "v",
         "showlegend": true,
         "type": "scatter",
         "x": [
          2.64,
          2.759,
          2.78,
          3.045,
          3.523,
          3.807
         ],
         "xaxis": "x",
         "y": [
          1532308.78,
          1644470.66,
          1498080.16,
          1572117.54,
          1420405.41,
          1639358.93
         ],
         "yaxis": "y"
        },
        {
         "hovertemplate": "Store=5<br>Fuel_Price=%{x}<br>Weekly_Sales=%{y}<extra></extra>",
         "legendgroup": "5",
         "line": {
          "color": "#FF6692",
          "dash": "solid"
         },
         "marker": {
          "symbol": "circle"
         },
         "mode": "lines",
         "name": "5",
         "orientation": "v",
         "showlegend": true,
         "type": "scatter",
         "x": [
          2.64,
          3.297,
          3.594,
          3.63,
          3.682,
          3.899,
          null,
          null
         ],
         "xaxis": "x",
         "y": [
          268929.03,
          311906.7,
          313358.15,
          359206.21,
          275142.17,
          290930.01,
          298697.84,
          301827.36
         ],
         "yaxis": "y"
        },
        {
         "hovertemplate": "Store=16<br>Fuel_Price=%{x}<br>Weekly_Sales=%{y}<extra></extra>",
         "legendgroup": "16",
         "line": {
          "color": "#B6E880",
          "dash": "solid"
         },
         "marker": {
          "symbol": "circle"
         },
         "mode": "lines",
         "name": "16",
         "orientation": "v",
         "showlegend": true,
         "type": "scatter",
         "x": [
          2.7110000000000003,
          3.659,
          3.75,
          3.828
         ],
         "xaxis": "x",
         "y": [
          614253.33,
          526525.16,
          485095.41,
          435397.19
         ],
         "yaxis": "y"
        },
        {
         "hovertemplate": "Store=7<br>Fuel_Price=%{x}<br>Weekly_Sales=%{y}<extra></extra>",
         "legendgroup": "7",
         "line": {
          "color": "#FF97FF",
          "dash": "solid"
         },
         "marker": {
          "symbol": "circle"
         },
         "mode": "lines",
         "name": "7",
         "orientation": "v",
         "showlegend": true,
         "type": "scatter",
         "x": [
          2.725,
          2.778,
          3.103,
          3.485,
          3.596,
          3.767,
          3.804,
          3.936
         ],
         "xaxis": "x",
         "y": [
          561145.14,
          716388.81,
          563460.77,
          629994.47,
          597876.55,
          414094.05,
          532739.77,
          457340.06
         ],
         "yaxis": "y"
        },
        {
         "hovertemplate": "Store=11<br>Fuel_Price=%{x}<br>Weekly_Sales=%{y}<extra></extra>",
         "legendgroup": "11",
         "line": {
          "color": "#FECB52",
          "dash": "solid"
         },
         "marker": {
          "symbol": "circle"
         },
         "mode": "lines",
         "name": "11",
         "orientation": "v",
         "showlegend": true,
         "type": "scatter",
         "x": [
          2.735,
          3.51,
          null
         ],
         "xaxis": "x",
         "y": [
          1757242.51,
          1569607.94,
          1244390.03
         ],
         "yaxis": "y"
        },
        {
         "hovertemplate": "Store=4<br>Fuel_Price=%{x}<br>Weekly_Sales=%{y}<extra></extra>",
         "legendgroup": "4",
         "line": {
          "color": "#636efa",
          "dash": "solid"
         },
         "marker": {
          "symbol": "circle"
         },
         "mode": "lines",
         "name": "4",
         "orientation": "v",
         "showlegend": true,
         "type": "scatter",
         "x": [
          2.756,
          2.86,
          3.149,
          3.469,
          3.57,
          3.627
         ],
         "xaxis": "x",
         "y": [
          1857533.7,
          2302504.86,
          2771397.17,
          2066541.86,
          2008344.92,
          2036231.39
         ],
         "yaxis": "y"
        },
        {
         "hovertemplate": "Store=14<br>Fuel_Price=%{x}<br>Weekly_Sales=%{y}<extra></extra>",
         "legendgroup": "14",
         "line": {
          "color": "#EF553B",
          "dash": "solid"
         },
         "marker": {
          "symbol": "circle"
         },
         "mode": "lines",
         "name": "14",
         "orientation": "v",
         "showlegend": true,
         "type": "scatter",
         "x": [
          2.78,
          3.109,
          3.193,
          3.625,
          3.695,
          3.76,
          4.046,
          null,
          null
         ],
         "xaxis": "x",
         "y": [
          2248645.59,
          2600519.26,
          1864746.1,
          1879451.23,
          2020550.99,
          1953544.76,
          2095599.93,
          2077256.24,
          2095591.63
         ],
         "yaxis": "y"
        },
        {
         "hovertemplate": "Store=18<br>Fuel_Price=%{x}<br>Weekly_Sales=%{y}<extra></extra>",
         "legendgroup": "18",
         "line": {
          "color": "#00cc96",
          "dash": "solid"
         },
         "marker": {
          "symbol": "circle"
         },
         "mode": "lines",
         "name": "18",
         "orientation": "v",
         "showlegend": true,
         "type": "scatter",
         "x": [
          2.7880000000000003,
          2.792,
          2.878,
          2.906,
          3.139,
          3.815,
          3.823,
          3.84,
          4.023,
          4.029
         ],
         "xaxis": "x",
         "y": [
          1205307.5,
          1166117.85,
          1029618.1,
          1256282.79,
          1588430.71,
          1087051.26,
          988157.72,
          1048134.24,
          961186.23,
          1074079
         ],
         "yaxis": "y"
        },
        {
         "hovertemplate": "Store=20<br>Fuel_Price=%{x}<br>Weekly_Sales=%{y}<extra></extra>",
         "legendgroup": "20",
         "line": {
          "color": "#ab63fa",
          "dash": "solid"
         },
         "marker": {
          "symbol": "circle"
         },
         "mode": "lines",
         "name": "20",
         "orientation": "v",
         "showlegend": true,
         "type": "scatter",
         "x": [
          2.8080000000000003,
          3.179,
          3.617,
          3.739,
          null
         ],
         "xaxis": "x",
         "y": [
          1973135.87,
          1799737.79,
          2203523.2,
          2045837.55,
          1789687.65
         ],
         "yaxis": "y"
        },
        {
         "hovertemplate": "Store=13<br>Fuel_Price=%{x}<br>Weekly_Sales=%{y}<extra></extra>",
         "legendgroup": "13",
         "line": {
          "color": "#FFA15A",
          "dash": "solid"
         },
         "marker": {
          "symbol": "circle"
         },
         "mode": "lines",
         "name": "13",
         "orientation": "v",
         "showlegend": true,
         "type": "scatter",
         "x": [
          2.814,
          2.817,
          2.85,
          3.435,
          3.529,
          3.606,
          3.648,
          3.788,
          null
         ],
         "xaxis": "x",
         "y": [
          2018314.71,
          2461468.35,
          1997397.63,
          1807545.43,
          2025582.62,
          1970341.38,
          1847430.96,
          2035431.39,
          1811606.21
         ],
         "yaxis": "y"
        },
        {
         "hovertemplate": "Store=17<br>Fuel_Price=%{x}<br>Weekly_Sales=%{y}<extra></extra>",
         "legendgroup": "17",
         "line": {
          "color": "#19d3f3",
          "dash": "solid"
         },
         "marker": {
          "symbol": "circle"
         },
         "mode": "lines",
         "name": "17",
         "orientation": "v",
         "showlegend": true,
         "type": "scatter",
         "x": [
          2.8310000000000004,
          2.841,
          2.853,
          2.915,
          3.63,
          3.793,
          3.797
         ],
         "xaxis": "x",
         "y": [
          855459.96,
          845252.21,
          829207.27,
          757738.76,
          1046782.52,
          986922.62,
          919878.34
         ],
         "yaxis": "y"
        },
        {
         "hovertemplate": "Store=15<br>Fuel_Price=%{x}<br>Weekly_Sales=%{y}<extra></extra>",
         "legendgroup": "15",
         "line": {
          "color": "#FF6692",
          "dash": "solid"
         },
         "marker": {
          "symbol": "circle"
         },
         "mode": "lines",
         "name": "15",
         "orientation": "v",
         "showlegend": true,
         "type": "scatter",
         "x": [
          2.909,
          3.972,
          4.021,
          4.069
         ],
         "xaxis": "x",
         "y": [
          660838.75,
          607475.44,
          570611.23,
          695396.19
         ],
         "yaxis": "y"
        },
        {
         "hovertemplate": "Store=19<br>Fuel_Price=%{x}<br>Weekly_Sales=%{y}<extra></extra>",
         "legendgroup": "19",
         "line": {
          "color": "#B6E880",
          "dash": "solid"
         },
         "marker": {
          "symbol": "circle"
         },
         "mode": "lines",
         "name": "19",
         "orientation": "v",
         "showlegend": true,
         "type": "scatter",
         "x": [
          2.932,
          2.958,
          2.963,
          3.722,
          3.789,
          4.124,
          4.17,
          null
         ],
         "xaxis": "x",
         "y": [
          1366395.96,
          1549018.68,
          1427023.45,
          1468350.36,
          1266564.94,
          1405007.44,
          1255087.26,
          1467473.63
         ],
         "yaxis": "y"
        },
        {
         "hovertemplate": "Store=12<br>Fuel_Price=%{x}<br>Weekly_Sales=%{y}<extra></extra>",
         "legendgroup": "12",
         "line": {
          "color": "#FF97FF",
          "dash": "solid"
         },
         "marker": {
          "symbol": "circle"
         },
         "mode": "lines",
         "name": "12",
         "orientation": "v",
         "showlegend": true,
         "type": "scatter",
         "x": [
          3.044,
          3.236,
          3.701,
          4.087,
          4.1930000000000005
         ],
         "xaxis": "x",
         "y": [
          903119.03,
          1295605.35,
          955913.68,
          964332.51,
          1021154.48
         ],
         "yaxis": "y"
        },
        {
         "hovertemplate": "Store=10<br>Fuel_Price=%{x}<br>Weekly_Sales=%{y}<extra></extra>",
         "legendgroup": "10",
         "line": {
          "color": "#FECB52",
          "dash": "solid"
         },
         "marker": {
          "symbol": "circle"
         },
         "mode": "lines",
         "name": "10",
         "orientation": "v",
         "showlegend": true,
         "type": "scatter",
         "x": [
          3.112,
          3.287,
          3.666,
          3.882,
          null
         ],
         "xaxis": "x",
         "y": [
          1831676.03,
          1714309.9,
          1805999.79,
          1990371.02,
          1768172.31
         ],
         "yaxis": "y"
        }
       ],
       "layout": {
        "legend": {
         "title": {
          "text": "Store"
         },
         "tracegroupgap": 0
        },
        "margin": {
         "t": 60
        },
        "template": {
         "data": {
          "bar": [
           {
            "error_x": {
             "color": "#2a3f5f"
            },
            "error_y": {
             "color": "#2a3f5f"
            },
            "marker": {
             "line": {
              "color": "#E5ECF6",
              "width": 0.5
             },
             "pattern": {
              "fillmode": "overlay",
              "size": 10,
              "solidity": 0.2
             }
            },
            "type": "bar"
           }
          ],
          "barpolar": [
           {
            "marker": {
             "line": {
              "color": "#E5ECF6",
              "width": 0.5
             },
             "pattern": {
              "fillmode": "overlay",
              "size": 10,
              "solidity": 0.2
             }
            },
            "type": "barpolar"
           }
          ],
          "carpet": [
           {
            "aaxis": {
             "endlinecolor": "#2a3f5f",
             "gridcolor": "white",
             "linecolor": "white",
             "minorgridcolor": "white",
             "startlinecolor": "#2a3f5f"
            },
            "baxis": {
             "endlinecolor": "#2a3f5f",
             "gridcolor": "white",
             "linecolor": "white",
             "minorgridcolor": "white",
             "startlinecolor": "#2a3f5f"
            },
            "type": "carpet"
           }
          ],
          "choropleth": [
           {
            "colorbar": {
             "outlinewidth": 0,
             "ticks": ""
            },
            "type": "choropleth"
           }
          ],
          "contour": [
           {
            "colorbar": {
             "outlinewidth": 0,
             "ticks": ""
            },
            "colorscale": [
             [
              0,
              "#0d0887"
             ],
             [
              0.1111111111111111,
              "#46039f"
             ],
             [
              0.2222222222222222,
              "#7201a8"
             ],
             [
              0.3333333333333333,
              "#9c179e"
             ],
             [
              0.4444444444444444,
              "#bd3786"
             ],
             [
              0.5555555555555556,
              "#d8576b"
             ],
             [
              0.6666666666666666,
              "#ed7953"
             ],
             [
              0.7777777777777778,
              "#fb9f3a"
             ],
             [
              0.8888888888888888,
              "#fdca26"
             ],
             [
              1,
              "#f0f921"
             ]
            ],
            "type": "contour"
           }
          ],
          "contourcarpet": [
           {
            "colorbar": {
             "outlinewidth": 0,
             "ticks": ""
            },
            "type": "contourcarpet"
           }
          ],
          "heatmap": [
           {
            "colorbar": {
             "outlinewidth": 0,
             "ticks": ""
            },
            "colorscale": [
             [
              0,
              "#0d0887"
             ],
             [
              0.1111111111111111,
              "#46039f"
             ],
             [
              0.2222222222222222,
              "#7201a8"
             ],
             [
              0.3333333333333333,
              "#9c179e"
             ],
             [
              0.4444444444444444,
              "#bd3786"
             ],
             [
              0.5555555555555556,
              "#d8576b"
             ],
             [
              0.6666666666666666,
              "#ed7953"
             ],
             [
              0.7777777777777778,
              "#fb9f3a"
             ],
             [
              0.8888888888888888,
              "#fdca26"
             ],
             [
              1,
              "#f0f921"
             ]
            ],
            "type": "heatmap"
           }
          ],
          "heatmapgl": [
           {
            "colorbar": {
             "outlinewidth": 0,
             "ticks": ""
            },
            "colorscale": [
             [
              0,
              "#0d0887"
             ],
             [
              0.1111111111111111,
              "#46039f"
             ],
             [
              0.2222222222222222,
              "#7201a8"
             ],
             [
              0.3333333333333333,
              "#9c179e"
             ],
             [
              0.4444444444444444,
              "#bd3786"
             ],
             [
              0.5555555555555556,
              "#d8576b"
             ],
             [
              0.6666666666666666,
              "#ed7953"
             ],
             [
              0.7777777777777778,
              "#fb9f3a"
             ],
             [
              0.8888888888888888,
              "#fdca26"
             ],
             [
              1,
              "#f0f921"
             ]
            ],
            "type": "heatmapgl"
           }
          ],
          "histogram": [
           {
            "marker": {
             "pattern": {
              "fillmode": "overlay",
              "size": 10,
              "solidity": 0.2
             }
            },
            "type": "histogram"
           }
          ],
          "histogram2d": [
           {
            "colorbar": {
             "outlinewidth": 0,
             "ticks": ""
            },
            "colorscale": [
             [
              0,
              "#0d0887"
             ],
             [
              0.1111111111111111,
              "#46039f"
             ],
             [
              0.2222222222222222,
              "#7201a8"
             ],
             [
              0.3333333333333333,
              "#9c179e"
             ],
             [
              0.4444444444444444,
              "#bd3786"
             ],
             [
              0.5555555555555556,
              "#d8576b"
             ],
             [
              0.6666666666666666,
              "#ed7953"
             ],
             [
              0.7777777777777778,
              "#fb9f3a"
             ],
             [
              0.8888888888888888,
              "#fdca26"
             ],
             [
              1,
              "#f0f921"
             ]
            ],
            "type": "histogram2d"
           }
          ],
          "histogram2dcontour": [
           {
            "colorbar": {
             "outlinewidth": 0,
             "ticks": ""
            },
            "colorscale": [
             [
              0,
              "#0d0887"
             ],
             [
              0.1111111111111111,
              "#46039f"
             ],
             [
              0.2222222222222222,
              "#7201a8"
             ],
             [
              0.3333333333333333,
              "#9c179e"
             ],
             [
              0.4444444444444444,
              "#bd3786"
             ],
             [
              0.5555555555555556,
              "#d8576b"
             ],
             [
              0.6666666666666666,
              "#ed7953"
             ],
             [
              0.7777777777777778,
              "#fb9f3a"
             ],
             [
              0.8888888888888888,
              "#fdca26"
             ],
             [
              1,
              "#f0f921"
             ]
            ],
            "type": "histogram2dcontour"
           }
          ],
          "mesh3d": [
           {
            "colorbar": {
             "outlinewidth": 0,
             "ticks": ""
            },
            "type": "mesh3d"
           }
          ],
          "parcoords": [
           {
            "line": {
             "colorbar": {
              "outlinewidth": 0,
              "ticks": ""
             }
            },
            "type": "parcoords"
           }
          ],
          "pie": [
           {
            "automargin": true,
            "type": "pie"
           }
          ],
          "scatter": [
           {
            "fillpattern": {
             "fillmode": "overlay",
             "size": 10,
             "solidity": 0.2
            },
            "type": "scatter"
           }
          ],
          "scatter3d": [
           {
            "line": {
             "colorbar": {
              "outlinewidth": 0,
              "ticks": ""
             }
            },
            "marker": {
             "colorbar": {
              "outlinewidth": 0,
              "ticks": ""
             }
            },
            "type": "scatter3d"
           }
          ],
          "scattercarpet": [
           {
            "marker": {
             "colorbar": {
              "outlinewidth": 0,
              "ticks": ""
             }
            },
            "type": "scattercarpet"
           }
          ],
          "scattergeo": [
           {
            "marker": {
             "colorbar": {
              "outlinewidth": 0,
              "ticks": ""
             }
            },
            "type": "scattergeo"
           }
          ],
          "scattergl": [
           {
            "marker": {
             "colorbar": {
              "outlinewidth": 0,
              "ticks": ""
             }
            },
            "type": "scattergl"
           }
          ],
          "scattermapbox": [
           {
            "marker": {
             "colorbar": {
              "outlinewidth": 0,
              "ticks": ""
             }
            },
            "type": "scattermapbox"
           }
          ],
          "scatterpolar": [
           {
            "marker": {
             "colorbar": {
              "outlinewidth": 0,
              "ticks": ""
             }
            },
            "type": "scatterpolar"
           }
          ],
          "scatterpolargl": [
           {
            "marker": {
             "colorbar": {
              "outlinewidth": 0,
              "ticks": ""
             }
            },
            "type": "scatterpolargl"
           }
          ],
          "scatterternary": [
           {
            "marker": {
             "colorbar": {
              "outlinewidth": 0,
              "ticks": ""
             }
            },
            "type": "scatterternary"
           }
          ],
          "surface": [
           {
            "colorbar": {
             "outlinewidth": 0,
             "ticks": ""
            },
            "colorscale": [
             [
              0,
              "#0d0887"
             ],
             [
              0.1111111111111111,
              "#46039f"
             ],
             [
              0.2222222222222222,
              "#7201a8"
             ],
             [
              0.3333333333333333,
              "#9c179e"
             ],
             [
              0.4444444444444444,
              "#bd3786"
             ],
             [
              0.5555555555555556,
              "#d8576b"
             ],
             [
              0.6666666666666666,
              "#ed7953"
             ],
             [
              0.7777777777777778,
              "#fb9f3a"
             ],
             [
              0.8888888888888888,
              "#fdca26"
             ],
             [
              1,
              "#f0f921"
             ]
            ],
            "type": "surface"
           }
          ],
          "table": [
           {
            "cells": {
             "fill": {
              "color": "#EBF0F8"
             },
             "line": {
              "color": "white"
             }
            },
            "header": {
             "fill": {
              "color": "#C8D4E3"
             },
             "line": {
              "color": "white"
             }
            },
            "type": "table"
           }
          ]
         },
         "layout": {
          "annotationdefaults": {
           "arrowcolor": "#2a3f5f",
           "arrowhead": 0,
           "arrowwidth": 1
          },
          "autotypenumbers": "strict",
          "coloraxis": {
           "colorbar": {
            "outlinewidth": 0,
            "ticks": ""
           }
          },
          "colorscale": {
           "diverging": [
            [
             0,
             "#8e0152"
            ],
            [
             0.1,
             "#c51b7d"
            ],
            [
             0.2,
             "#de77ae"
            ],
            [
             0.3,
             "#f1b6da"
            ],
            [
             0.4,
             "#fde0ef"
            ],
            [
             0.5,
             "#f7f7f7"
            ],
            [
             0.6,
             "#e6f5d0"
            ],
            [
             0.7,
             "#b8e186"
            ],
            [
             0.8,
             "#7fbc41"
            ],
            [
             0.9,
             "#4d9221"
            ],
            [
             1,
             "#276419"
            ]
           ],
           "sequential": [
            [
             0,
             "#0d0887"
            ],
            [
             0.1111111111111111,
             "#46039f"
            ],
            [
             0.2222222222222222,
             "#7201a8"
            ],
            [
             0.3333333333333333,
             "#9c179e"
            ],
            [
             0.4444444444444444,
             "#bd3786"
            ],
            [
             0.5555555555555556,
             "#d8576b"
            ],
            [
             0.6666666666666666,
             "#ed7953"
            ],
            [
             0.7777777777777778,
             "#fb9f3a"
            ],
            [
             0.8888888888888888,
             "#fdca26"
            ],
            [
             1,
             "#f0f921"
            ]
           ],
           "sequentialminus": [
            [
             0,
             "#0d0887"
            ],
            [
             0.1111111111111111,
             "#46039f"
            ],
            [
             0.2222222222222222,
             "#7201a8"
            ],
            [
             0.3333333333333333,
             "#9c179e"
            ],
            [
             0.4444444444444444,
             "#bd3786"
            ],
            [
             0.5555555555555556,
             "#d8576b"
            ],
            [
             0.6666666666666666,
             "#ed7953"
            ],
            [
             0.7777777777777778,
             "#fb9f3a"
            ],
            [
             0.8888888888888888,
             "#fdca26"
            ],
            [
             1,
             "#f0f921"
            ]
           ]
          },
          "colorway": [
           "#636efa",
           "#EF553B",
           "#00cc96",
           "#ab63fa",
           "#FFA15A",
           "#19d3f3",
           "#FF6692",
           "#B6E880",
           "#FF97FF",
           "#FECB52"
          ],
          "font": {
           "color": "#2a3f5f"
          },
          "geo": {
           "bgcolor": "white",
           "lakecolor": "white",
           "landcolor": "#E5ECF6",
           "showlakes": true,
           "showland": true,
           "subunitcolor": "white"
          },
          "hoverlabel": {
           "align": "left"
          },
          "hovermode": "closest",
          "mapbox": {
           "style": "light"
          },
          "paper_bgcolor": "white",
          "plot_bgcolor": "#E5ECF6",
          "polar": {
           "angularaxis": {
            "gridcolor": "white",
            "linecolor": "white",
            "ticks": ""
           },
           "bgcolor": "#E5ECF6",
           "radialaxis": {
            "gridcolor": "white",
            "linecolor": "white",
            "ticks": ""
           }
          },
          "scene": {
           "xaxis": {
            "backgroundcolor": "#E5ECF6",
            "gridcolor": "white",
            "gridwidth": 2,
            "linecolor": "white",
            "showbackground": true,
            "ticks": "",
            "zerolinecolor": "white"
           },
           "yaxis": {
            "backgroundcolor": "#E5ECF6",
            "gridcolor": "white",
            "gridwidth": 2,
            "linecolor": "white",
            "showbackground": true,
            "ticks": "",
            "zerolinecolor": "white"
           },
           "zaxis": {
            "backgroundcolor": "#E5ECF6",
            "gridcolor": "white",
            "gridwidth": 2,
            "linecolor": "white",
            "showbackground": true,
            "ticks": "",
            "zerolinecolor": "white"
           }
          },
          "shapedefaults": {
           "line": {
            "color": "#2a3f5f"
           }
          },
          "ternary": {
           "aaxis": {
            "gridcolor": "white",
            "linecolor": "white",
            "ticks": ""
           },
           "baxis": {
            "gridcolor": "white",
            "linecolor": "white",
            "ticks": ""
           },
           "bgcolor": "#E5ECF6",
           "caxis": {
            "gridcolor": "white",
            "linecolor": "white",
            "ticks": ""
           }
          },
          "title": {
           "x": 0.05
          },
          "xaxis": {
           "automargin": true,
           "gridcolor": "white",
           "linecolor": "white",
           "ticks": "",
           "title": {
            "standoff": 15
           },
           "zerolinecolor": "white",
           "zerolinewidth": 2
          },
          "yaxis": {
           "automargin": true,
           "gridcolor": "white",
           "linecolor": "white",
           "ticks": "",
           "title": {
            "standoff": 15
           },
           "zerolinecolor": "white",
           "zerolinewidth": 2
          }
         }
        },
        "xaxis": {
         "anchor": "y",
         "domain": [
          0,
          1
         ],
         "title": {
          "text": "Fuel_Price"
         }
        },
        "yaxis": {
         "anchor": "x",
         "domain": [
          0,
          1
         ],
         "title": {
          "text": "Weekly_Sales"
         }
        }
       }
      },
      "text/html": [
       "<div>                            <div id=\"17c8e611-03fb-4c70-8ebd-6e28baa98e74\" class=\"plotly-graph-div\" style=\"height:525px; width:100%;\"></div>            <script type=\"text/javascript\">                require([\"plotly\"], function(Plotly) {                    window.PLOTLYENV=window.PLOTLYENV || {};                                    if (document.getElementById(\"17c8e611-03fb-4c70-8ebd-6e28baa98e74\")) {                    Plotly.newPlot(                        \"17c8e611-03fb-4c70-8ebd-6e28baa98e74\",                        [{\"hovertemplate\":\"Store=2\\u003cbr\\u003eFuel_Price=%{x}\\u003cbr\\u003eWeekly_Sales=%{y}\\u003cextra\\u003e\\u003c\\u002fextra\\u003e\",\"legendgroup\":\"2\",\"line\":{\"color\":\"#636efa\",\"dash\":\"solid\"},\"marker\":{\"symbol\":\"circle\"},\"mode\":\"lines\",\"name\":\"2\",\"orientation\":\"v\",\"showlegend\":true,\"x\":[2.514,2.728,2.9760000000000004,3.48,3.555,3.786,null,null],\"xaxis\":\"x\",\"y\":[2124451.54,1916812.74,1758050.79,1853161.99,1861802.7,1797732.56,2432736.52,1799520.14],\"yaxis\":\"y\",\"type\":\"scatter\"},{\"hovertemplate\":\"Store=8\\u003cbr\\u003eFuel_Price=%{x}\\u003cbr\\u003eWeekly_Sales=%{y}\\u003cextra\\u003e\\u003c\\u002fextra\\u003e\",\"legendgroup\":\"8\",\"line\":{\"color\":\"#EF553B\",\"dash\":\"solid\"},\"marker\":{\"symbol\":\"circle\"},\"mode\":\"lines\",\"name\":\"8\",\"orientation\":\"v\",\"showlegend\":true,\"x\":[2.548,2.582,2.619,3.554,3.638,null],\"xaxis\":\"x\",\"y\":[994801.4,836707.85,888816.78,895066.5,856796.1,860336.16],\"yaxis\":\"y\",\"type\":\"scatter\"},{\"hovertemplate\":\"Store=1\\u003cbr\\u003eFuel_Price=%{x}\\u003cbr\\u003eWeekly_Sales=%{y}\\u003cextra\\u003e\\u003c\\u002fextra\\u003e\",\"legendgroup\":\"1\",\"line\":{\"color\":\"#00cc96\",\"dash\":\"solid\"},\"marker\":{\"symbol\":\"circle\"},\"mode\":\"lines\",\"name\":\"1\",\"orientation\":\"v\",\"showlegend\":true,\"x\":[2.548,2.619,2.854,3.3080000000000003,3.594,3.684,3.73,3.734,3.786],\"xaxis\":\"x\",\"y\":[1641957.44,1449142.92,1494251.5,1539483.7,1508068.77,1624383.75,1661767.33,1677472.78,1466046.67],\"yaxis\":\"y\",\"type\":\"scatter\"},{\"hovertemplate\":\"Store=3\\u003cbr\\u003eFuel_Price=%{x}\\u003cbr\\u003eWeekly_Sales=%{y}\\u003cextra\\u003e\\u003c\\u002fextra\\u003e\",\"legendgroup\":\"3\",\"line\":{\"color\":\"#ab63fa\",\"dash\":\"solid\"},\"marker\":{\"symbol\":\"circle\"},\"mode\":\"lines\",\"name\":\"3\",\"orientation\":\"v\",\"showlegend\":true,\"x\":[2.572,2.637,2.667,2.705,3.261,3.285,3.3080000000000003,3.346,3.467,3.555,3.594,3.688],\"xaxis\":\"x\",\"y\":[461622.22,364076.85,384200.69,396968.8,367438.62,403342.4,398838.97,419497.95,365248.94,418925.47,424513.08,431985.36],\"yaxis\":\"y\",\"type\":\"scatter\"},{\"hovertemplate\":\"Store=9\\u003cbr\\u003eFuel_Price=%{x}\\u003cbr\\u003eWeekly_Sales=%{y}\\u003cextra\\u003e\\u003c\\u002fextra\\u003e\",\"legendgroup\":\"9\",\"line\":{\"color\":\"#FFA15A\",\"dash\":\"solid\"},\"marker\":{\"symbol\":\"circle\"},\"mode\":\"lines\",\"name\":\"9\",\"orientation\":\"v\",\"showlegend\":true,\"x\":[2.637,2.642,2.653,2.7710000000000004],\"xaxis\":\"x\",\"y\":[513073.87,485389.15,509263.28,519823.3],\"yaxis\":\"y\",\"type\":\"scatter\"},{\"hovertemplate\":\"Store=6\\u003cbr\\u003eFuel_Price=%{x}\\u003cbr\\u003eWeekly_Sales=%{y}\\u003cextra\\u003e\\u003c\\u002fextra\\u003e\",\"legendgroup\":\"6\",\"line\":{\"color\":\"#19d3f3\",\"dash\":\"solid\"},\"marker\":{\"symbol\":\"circle\"},\"mode\":\"lines\",\"name\":\"6\",\"orientation\":\"v\",\"showlegend\":true,\"x\":[2.64,2.759,2.78,3.045,3.523,3.807],\"xaxis\":\"x\",\"y\":[1532308.78,1644470.66,1498080.16,1572117.54,1420405.41,1639358.93],\"yaxis\":\"y\",\"type\":\"scatter\"},{\"hovertemplate\":\"Store=5\\u003cbr\\u003eFuel_Price=%{x}\\u003cbr\\u003eWeekly_Sales=%{y}\\u003cextra\\u003e\\u003c\\u002fextra\\u003e\",\"legendgroup\":\"5\",\"line\":{\"color\":\"#FF6692\",\"dash\":\"solid\"},\"marker\":{\"symbol\":\"circle\"},\"mode\":\"lines\",\"name\":\"5\",\"orientation\":\"v\",\"showlegend\":true,\"x\":[2.64,3.297,3.594,3.63,3.682,3.899,null,null],\"xaxis\":\"x\",\"y\":[268929.03,311906.7,313358.15,359206.21,275142.17,290930.01,298697.84,301827.36],\"yaxis\":\"y\",\"type\":\"scatter\"},{\"hovertemplate\":\"Store=16\\u003cbr\\u003eFuel_Price=%{x}\\u003cbr\\u003eWeekly_Sales=%{y}\\u003cextra\\u003e\\u003c\\u002fextra\\u003e\",\"legendgroup\":\"16\",\"line\":{\"color\":\"#B6E880\",\"dash\":\"solid\"},\"marker\":{\"symbol\":\"circle\"},\"mode\":\"lines\",\"name\":\"16\",\"orientation\":\"v\",\"showlegend\":true,\"x\":[2.7110000000000003,3.659,3.75,3.828],\"xaxis\":\"x\",\"y\":[614253.33,526525.16,485095.41,435397.19],\"yaxis\":\"y\",\"type\":\"scatter\"},{\"hovertemplate\":\"Store=7\\u003cbr\\u003eFuel_Price=%{x}\\u003cbr\\u003eWeekly_Sales=%{y}\\u003cextra\\u003e\\u003c\\u002fextra\\u003e\",\"legendgroup\":\"7\",\"line\":{\"color\":\"#FF97FF\",\"dash\":\"solid\"},\"marker\":{\"symbol\":\"circle\"},\"mode\":\"lines\",\"name\":\"7\",\"orientation\":\"v\",\"showlegend\":true,\"x\":[2.725,2.778,3.103,3.485,3.596,3.767,3.804,3.936],\"xaxis\":\"x\",\"y\":[561145.14,716388.81,563460.77,629994.47,597876.55,414094.05,532739.77,457340.06],\"yaxis\":\"y\",\"type\":\"scatter\"},{\"hovertemplate\":\"Store=11\\u003cbr\\u003eFuel_Price=%{x}\\u003cbr\\u003eWeekly_Sales=%{y}\\u003cextra\\u003e\\u003c\\u002fextra\\u003e\",\"legendgroup\":\"11\",\"line\":{\"color\":\"#FECB52\",\"dash\":\"solid\"},\"marker\":{\"symbol\":\"circle\"},\"mode\":\"lines\",\"name\":\"11\",\"orientation\":\"v\",\"showlegend\":true,\"x\":[2.735,3.51,null],\"xaxis\":\"x\",\"y\":[1757242.51,1569607.94,1244390.03],\"yaxis\":\"y\",\"type\":\"scatter\"},{\"hovertemplate\":\"Store=4\\u003cbr\\u003eFuel_Price=%{x}\\u003cbr\\u003eWeekly_Sales=%{y}\\u003cextra\\u003e\\u003c\\u002fextra\\u003e\",\"legendgroup\":\"4\",\"line\":{\"color\":\"#636efa\",\"dash\":\"solid\"},\"marker\":{\"symbol\":\"circle\"},\"mode\":\"lines\",\"name\":\"4\",\"orientation\":\"v\",\"showlegend\":true,\"x\":[2.756,2.86,3.149,3.469,3.57,3.627],\"xaxis\":\"x\",\"y\":[1857533.7,2302504.86,2771397.17,2066541.86,2008344.92,2036231.39],\"yaxis\":\"y\",\"type\":\"scatter\"},{\"hovertemplate\":\"Store=14\\u003cbr\\u003eFuel_Price=%{x}\\u003cbr\\u003eWeekly_Sales=%{y}\\u003cextra\\u003e\\u003c\\u002fextra\\u003e\",\"legendgroup\":\"14\",\"line\":{\"color\":\"#EF553B\",\"dash\":\"solid\"},\"marker\":{\"symbol\":\"circle\"},\"mode\":\"lines\",\"name\":\"14\",\"orientation\":\"v\",\"showlegend\":true,\"x\":[2.78,3.109,3.193,3.625,3.695,3.76,4.046,null,null],\"xaxis\":\"x\",\"y\":[2248645.59,2600519.26,1864746.1,1879451.23,2020550.99,1953544.76,2095599.93,2077256.24,2095591.63],\"yaxis\":\"y\",\"type\":\"scatter\"},{\"hovertemplate\":\"Store=18\\u003cbr\\u003eFuel_Price=%{x}\\u003cbr\\u003eWeekly_Sales=%{y}\\u003cextra\\u003e\\u003c\\u002fextra\\u003e\",\"legendgroup\":\"18\",\"line\":{\"color\":\"#00cc96\",\"dash\":\"solid\"},\"marker\":{\"symbol\":\"circle\"},\"mode\":\"lines\",\"name\":\"18\",\"orientation\":\"v\",\"showlegend\":true,\"x\":[2.7880000000000003,2.792,2.878,2.906,3.139,3.815,3.823,3.84,4.023,4.029],\"xaxis\":\"x\",\"y\":[1205307.5,1166117.85,1029618.1,1256282.79,1588430.71,1087051.26,988157.72,1048134.24,961186.23,1074079.0],\"yaxis\":\"y\",\"type\":\"scatter\"},{\"hovertemplate\":\"Store=20\\u003cbr\\u003eFuel_Price=%{x}\\u003cbr\\u003eWeekly_Sales=%{y}\\u003cextra\\u003e\\u003c\\u002fextra\\u003e\",\"legendgroup\":\"20\",\"line\":{\"color\":\"#ab63fa\",\"dash\":\"solid\"},\"marker\":{\"symbol\":\"circle\"},\"mode\":\"lines\",\"name\":\"20\",\"orientation\":\"v\",\"showlegend\":true,\"x\":[2.8080000000000003,3.179,3.617,3.739,null],\"xaxis\":\"x\",\"y\":[1973135.87,1799737.79,2203523.2,2045837.55,1789687.65],\"yaxis\":\"y\",\"type\":\"scatter\"},{\"hovertemplate\":\"Store=13\\u003cbr\\u003eFuel_Price=%{x}\\u003cbr\\u003eWeekly_Sales=%{y}\\u003cextra\\u003e\\u003c\\u002fextra\\u003e\",\"legendgroup\":\"13\",\"line\":{\"color\":\"#FFA15A\",\"dash\":\"solid\"},\"marker\":{\"symbol\":\"circle\"},\"mode\":\"lines\",\"name\":\"13\",\"orientation\":\"v\",\"showlegend\":true,\"x\":[2.814,2.817,2.85,3.435,3.529,3.606,3.648,3.788,null],\"xaxis\":\"x\",\"y\":[2018314.71,2461468.35,1997397.63,1807545.43,2025582.62,1970341.38,1847430.96,2035431.39,1811606.21],\"yaxis\":\"y\",\"type\":\"scatter\"},{\"hovertemplate\":\"Store=17\\u003cbr\\u003eFuel_Price=%{x}\\u003cbr\\u003eWeekly_Sales=%{y}\\u003cextra\\u003e\\u003c\\u002fextra\\u003e\",\"legendgroup\":\"17\",\"line\":{\"color\":\"#19d3f3\",\"dash\":\"solid\"},\"marker\":{\"symbol\":\"circle\"},\"mode\":\"lines\",\"name\":\"17\",\"orientation\":\"v\",\"showlegend\":true,\"x\":[2.8310000000000004,2.841,2.853,2.915,3.63,3.793,3.797],\"xaxis\":\"x\",\"y\":[855459.96,845252.21,829207.27,757738.76,1046782.52,986922.62,919878.34],\"yaxis\":\"y\",\"type\":\"scatter\"},{\"hovertemplate\":\"Store=15\\u003cbr\\u003eFuel_Price=%{x}\\u003cbr\\u003eWeekly_Sales=%{y}\\u003cextra\\u003e\\u003c\\u002fextra\\u003e\",\"legendgroup\":\"15\",\"line\":{\"color\":\"#FF6692\",\"dash\":\"solid\"},\"marker\":{\"symbol\":\"circle\"},\"mode\":\"lines\",\"name\":\"15\",\"orientation\":\"v\",\"showlegend\":true,\"x\":[2.909,3.972,4.021,4.069],\"xaxis\":\"x\",\"y\":[660838.75,607475.44,570611.23,695396.19],\"yaxis\":\"y\",\"type\":\"scatter\"},{\"hovertemplate\":\"Store=19\\u003cbr\\u003eFuel_Price=%{x}\\u003cbr\\u003eWeekly_Sales=%{y}\\u003cextra\\u003e\\u003c\\u002fextra\\u003e\",\"legendgroup\":\"19\",\"line\":{\"color\":\"#B6E880\",\"dash\":\"solid\"},\"marker\":{\"symbol\":\"circle\"},\"mode\":\"lines\",\"name\":\"19\",\"orientation\":\"v\",\"showlegend\":true,\"x\":[2.932,2.958,2.963,3.722,3.789,4.124,4.17,null],\"xaxis\":\"x\",\"y\":[1366395.96,1549018.68,1427023.45,1468350.36,1266564.94,1405007.44,1255087.26,1467473.63],\"yaxis\":\"y\",\"type\":\"scatter\"},{\"hovertemplate\":\"Store=12\\u003cbr\\u003eFuel_Price=%{x}\\u003cbr\\u003eWeekly_Sales=%{y}\\u003cextra\\u003e\\u003c\\u002fextra\\u003e\",\"legendgroup\":\"12\",\"line\":{\"color\":\"#FF97FF\",\"dash\":\"solid\"},\"marker\":{\"symbol\":\"circle\"},\"mode\":\"lines\",\"name\":\"12\",\"orientation\":\"v\",\"showlegend\":true,\"x\":[3.044,3.236,3.701,4.087,4.1930000000000005],\"xaxis\":\"x\",\"y\":[903119.03,1295605.35,955913.68,964332.51,1021154.48],\"yaxis\":\"y\",\"type\":\"scatter\"},{\"hovertemplate\":\"Store=10\\u003cbr\\u003eFuel_Price=%{x}\\u003cbr\\u003eWeekly_Sales=%{y}\\u003cextra\\u003e\\u003c\\u002fextra\\u003e\",\"legendgroup\":\"10\",\"line\":{\"color\":\"#FECB52\",\"dash\":\"solid\"},\"marker\":{\"symbol\":\"circle\"},\"mode\":\"lines\",\"name\":\"10\",\"orientation\":\"v\",\"showlegend\":true,\"x\":[3.112,3.287,3.666,3.882,null],\"xaxis\":\"x\",\"y\":[1831676.03,1714309.9,1805999.79,1990371.02,1768172.31],\"yaxis\":\"y\",\"type\":\"scatter\"}],                        {\"template\":{\"data\":{\"histogram2dcontour\":[{\"type\":\"histogram2dcontour\",\"colorbar\":{\"outlinewidth\":0,\"ticks\":\"\"},\"colorscale\":[[0.0,\"#0d0887\"],[0.1111111111111111,\"#46039f\"],[0.2222222222222222,\"#7201a8\"],[0.3333333333333333,\"#9c179e\"],[0.4444444444444444,\"#bd3786\"],[0.5555555555555556,\"#d8576b\"],[0.6666666666666666,\"#ed7953\"],[0.7777777777777778,\"#fb9f3a\"],[0.8888888888888888,\"#fdca26\"],[1.0,\"#f0f921\"]]}],\"choropleth\":[{\"type\":\"choropleth\",\"colorbar\":{\"outlinewidth\":0,\"ticks\":\"\"}}],\"histogram2d\":[{\"type\":\"histogram2d\",\"colorbar\":{\"outlinewidth\":0,\"ticks\":\"\"},\"colorscale\":[[0.0,\"#0d0887\"],[0.1111111111111111,\"#46039f\"],[0.2222222222222222,\"#7201a8\"],[0.3333333333333333,\"#9c179e\"],[0.4444444444444444,\"#bd3786\"],[0.5555555555555556,\"#d8576b\"],[0.6666666666666666,\"#ed7953\"],[0.7777777777777778,\"#fb9f3a\"],[0.8888888888888888,\"#fdca26\"],[1.0,\"#f0f921\"]]}],\"heatmap\":[{\"type\":\"heatmap\",\"colorbar\":{\"outlinewidth\":0,\"ticks\":\"\"},\"colorscale\":[[0.0,\"#0d0887\"],[0.1111111111111111,\"#46039f\"],[0.2222222222222222,\"#7201a8\"],[0.3333333333333333,\"#9c179e\"],[0.4444444444444444,\"#bd3786\"],[0.5555555555555556,\"#d8576b\"],[0.6666666666666666,\"#ed7953\"],[0.7777777777777778,\"#fb9f3a\"],[0.8888888888888888,\"#fdca26\"],[1.0,\"#f0f921\"]]}],\"heatmapgl\":[{\"type\":\"heatmapgl\",\"colorbar\":{\"outlinewidth\":0,\"ticks\":\"\"},\"colorscale\":[[0.0,\"#0d0887\"],[0.1111111111111111,\"#46039f\"],[0.2222222222222222,\"#7201a8\"],[0.3333333333333333,\"#9c179e\"],[0.4444444444444444,\"#bd3786\"],[0.5555555555555556,\"#d8576b\"],[0.6666666666666666,\"#ed7953\"],[0.7777777777777778,\"#fb9f3a\"],[0.8888888888888888,\"#fdca26\"],[1.0,\"#f0f921\"]]}],\"contourcarpet\":[{\"type\":\"contourcarpet\",\"colorbar\":{\"outlinewidth\":0,\"ticks\":\"\"}}],\"contour\":[{\"type\":\"contour\",\"colorbar\":{\"outlinewidth\":0,\"ticks\":\"\"},\"colorscale\":[[0.0,\"#0d0887\"],[0.1111111111111111,\"#46039f\"],[0.2222222222222222,\"#7201a8\"],[0.3333333333333333,\"#9c179e\"],[0.4444444444444444,\"#bd3786\"],[0.5555555555555556,\"#d8576b\"],[0.6666666666666666,\"#ed7953\"],[0.7777777777777778,\"#fb9f3a\"],[0.8888888888888888,\"#fdca26\"],[1.0,\"#f0f921\"]]}],\"surface\":[{\"type\":\"surface\",\"colorbar\":{\"outlinewidth\":0,\"ticks\":\"\"},\"colorscale\":[[0.0,\"#0d0887\"],[0.1111111111111111,\"#46039f\"],[0.2222222222222222,\"#7201a8\"],[0.3333333333333333,\"#9c179e\"],[0.4444444444444444,\"#bd3786\"],[0.5555555555555556,\"#d8576b\"],[0.6666666666666666,\"#ed7953\"],[0.7777777777777778,\"#fb9f3a\"],[0.8888888888888888,\"#fdca26\"],[1.0,\"#f0f921\"]]}],\"mesh3d\":[{\"type\":\"mesh3d\",\"colorbar\":{\"outlinewidth\":0,\"ticks\":\"\"}}],\"scatter\":[{\"fillpattern\":{\"fillmode\":\"overlay\",\"size\":10,\"solidity\":0.2},\"type\":\"scatter\"}],\"parcoords\":[{\"type\":\"parcoords\",\"line\":{\"colorbar\":{\"outlinewidth\":0,\"ticks\":\"\"}}}],\"scatterpolargl\":[{\"type\":\"scatterpolargl\",\"marker\":{\"colorbar\":{\"outlinewidth\":0,\"ticks\":\"\"}}}],\"bar\":[{\"error_x\":{\"color\":\"#2a3f5f\"},\"error_y\":{\"color\":\"#2a3f5f\"},\"marker\":{\"line\":{\"color\":\"#E5ECF6\",\"width\":0.5},\"pattern\":{\"fillmode\":\"overlay\",\"size\":10,\"solidity\":0.2}},\"type\":\"bar\"}],\"scattergeo\":[{\"type\":\"scattergeo\",\"marker\":{\"colorbar\":{\"outlinewidth\":0,\"ticks\":\"\"}}}],\"scatterpolar\":[{\"type\":\"scatterpolar\",\"marker\":{\"colorbar\":{\"outlinewidth\":0,\"ticks\":\"\"}}}],\"histogram\":[{\"marker\":{\"pattern\":{\"fillmode\":\"overlay\",\"size\":10,\"solidity\":0.2}},\"type\":\"histogram\"}],\"scattergl\":[{\"type\":\"scattergl\",\"marker\":{\"colorbar\":{\"outlinewidth\":0,\"ticks\":\"\"}}}],\"scatter3d\":[{\"type\":\"scatter3d\",\"line\":{\"colorbar\":{\"outlinewidth\":0,\"ticks\":\"\"}},\"marker\":{\"colorbar\":{\"outlinewidth\":0,\"ticks\":\"\"}}}],\"scattermapbox\":[{\"type\":\"scattermapbox\",\"marker\":{\"colorbar\":{\"outlinewidth\":0,\"ticks\":\"\"}}}],\"scatterternary\":[{\"type\":\"scatterternary\",\"marker\":{\"colorbar\":{\"outlinewidth\":0,\"ticks\":\"\"}}}],\"scattercarpet\":[{\"type\":\"scattercarpet\",\"marker\":{\"colorbar\":{\"outlinewidth\":0,\"ticks\":\"\"}}}],\"carpet\":[{\"aaxis\":{\"endlinecolor\":\"#2a3f5f\",\"gridcolor\":\"white\",\"linecolor\":\"white\",\"minorgridcolor\":\"white\",\"startlinecolor\":\"#2a3f5f\"},\"baxis\":{\"endlinecolor\":\"#2a3f5f\",\"gridcolor\":\"white\",\"linecolor\":\"white\",\"minorgridcolor\":\"white\",\"startlinecolor\":\"#2a3f5f\"},\"type\":\"carpet\"}],\"table\":[{\"cells\":{\"fill\":{\"color\":\"#EBF0F8\"},\"line\":{\"color\":\"white\"}},\"header\":{\"fill\":{\"color\":\"#C8D4E3\"},\"line\":{\"color\":\"white\"}},\"type\":\"table\"}],\"barpolar\":[{\"marker\":{\"line\":{\"color\":\"#E5ECF6\",\"width\":0.5},\"pattern\":{\"fillmode\":\"overlay\",\"size\":10,\"solidity\":0.2}},\"type\":\"barpolar\"}],\"pie\":[{\"automargin\":true,\"type\":\"pie\"}]},\"layout\":{\"autotypenumbers\":\"strict\",\"colorway\":[\"#636efa\",\"#EF553B\",\"#00cc96\",\"#ab63fa\",\"#FFA15A\",\"#19d3f3\",\"#FF6692\",\"#B6E880\",\"#FF97FF\",\"#FECB52\"],\"font\":{\"color\":\"#2a3f5f\"},\"hovermode\":\"closest\",\"hoverlabel\":{\"align\":\"left\"},\"paper_bgcolor\":\"white\",\"plot_bgcolor\":\"#E5ECF6\",\"polar\":{\"bgcolor\":\"#E5ECF6\",\"angularaxis\":{\"gridcolor\":\"white\",\"linecolor\":\"white\",\"ticks\":\"\"},\"radialaxis\":{\"gridcolor\":\"white\",\"linecolor\":\"white\",\"ticks\":\"\"}},\"ternary\":{\"bgcolor\":\"#E5ECF6\",\"aaxis\":{\"gridcolor\":\"white\",\"linecolor\":\"white\",\"ticks\":\"\"},\"baxis\":{\"gridcolor\":\"white\",\"linecolor\":\"white\",\"ticks\":\"\"},\"caxis\":{\"gridcolor\":\"white\",\"linecolor\":\"white\",\"ticks\":\"\"}},\"coloraxis\":{\"colorbar\":{\"outlinewidth\":0,\"ticks\":\"\"}},\"colorscale\":{\"sequential\":[[0.0,\"#0d0887\"],[0.1111111111111111,\"#46039f\"],[0.2222222222222222,\"#7201a8\"],[0.3333333333333333,\"#9c179e\"],[0.4444444444444444,\"#bd3786\"],[0.5555555555555556,\"#d8576b\"],[0.6666666666666666,\"#ed7953\"],[0.7777777777777778,\"#fb9f3a\"],[0.8888888888888888,\"#fdca26\"],[1.0,\"#f0f921\"]],\"sequentialminus\":[[0.0,\"#0d0887\"],[0.1111111111111111,\"#46039f\"],[0.2222222222222222,\"#7201a8\"],[0.3333333333333333,\"#9c179e\"],[0.4444444444444444,\"#bd3786\"],[0.5555555555555556,\"#d8576b\"],[0.6666666666666666,\"#ed7953\"],[0.7777777777777778,\"#fb9f3a\"],[0.8888888888888888,\"#fdca26\"],[1.0,\"#f0f921\"]],\"diverging\":[[0,\"#8e0152\"],[0.1,\"#c51b7d\"],[0.2,\"#de77ae\"],[0.3,\"#f1b6da\"],[0.4,\"#fde0ef\"],[0.5,\"#f7f7f7\"],[0.6,\"#e6f5d0\"],[0.7,\"#b8e186\"],[0.8,\"#7fbc41\"],[0.9,\"#4d9221\"],[1,\"#276419\"]]},\"xaxis\":{\"gridcolor\":\"white\",\"linecolor\":\"white\",\"ticks\":\"\",\"title\":{\"standoff\":15},\"zerolinecolor\":\"white\",\"automargin\":true,\"zerolinewidth\":2},\"yaxis\":{\"gridcolor\":\"white\",\"linecolor\":\"white\",\"ticks\":\"\",\"title\":{\"standoff\":15},\"zerolinecolor\":\"white\",\"automargin\":true,\"zerolinewidth\":2},\"scene\":{\"xaxis\":{\"backgroundcolor\":\"#E5ECF6\",\"gridcolor\":\"white\",\"linecolor\":\"white\",\"showbackground\":true,\"ticks\":\"\",\"zerolinecolor\":\"white\",\"gridwidth\":2},\"yaxis\":{\"backgroundcolor\":\"#E5ECF6\",\"gridcolor\":\"white\",\"linecolor\":\"white\",\"showbackground\":true,\"ticks\":\"\",\"zerolinecolor\":\"white\",\"gridwidth\":2},\"zaxis\":{\"backgroundcolor\":\"#E5ECF6\",\"gridcolor\":\"white\",\"linecolor\":\"white\",\"showbackground\":true,\"ticks\":\"\",\"zerolinecolor\":\"white\",\"gridwidth\":2}},\"shapedefaults\":{\"line\":{\"color\":\"#2a3f5f\"}},\"annotationdefaults\":{\"arrowcolor\":\"#2a3f5f\",\"arrowhead\":0,\"arrowwidth\":1},\"geo\":{\"bgcolor\":\"white\",\"landcolor\":\"#E5ECF6\",\"subunitcolor\":\"white\",\"showland\":true,\"showlakes\":true,\"lakecolor\":\"white\"},\"title\":{\"x\":0.05},\"mapbox\":{\"style\":\"light\"}}},\"xaxis\":{\"anchor\":\"y\",\"domain\":[0.0,1.0],\"title\":{\"text\":\"Fuel_Price\"}},\"yaxis\":{\"anchor\":\"x\",\"domain\":[0.0,1.0],\"title\":{\"text\":\"Weekly_Sales\"}},\"legend\":{\"title\":{\"text\":\"Store\"},\"tracegroupgap\":0},\"margin\":{\"t\":60}},                        {\"responsive\": true}                    ).then(function(){\n",
       "                            \n",
       "var gd = document.getElementById('17c8e611-03fb-4c70-8ebd-6e28baa98e74');\n",
       "var x = new MutationObserver(function (mutations, observer) {{\n",
       "        var display = window.getComputedStyle(gd).display;\n",
       "        if (!display || display === 'none') {{\n",
       "            console.log([gd, 'removed!']);\n",
       "            Plotly.purge(gd);\n",
       "            observer.disconnect();\n",
       "        }}\n",
       "}});\n",
       "\n",
       "// Listen for the removal of the full notebook cells\n",
       "var notebookContainer = gd.closest('#notebook-container');\n",
       "if (notebookContainer) {{\n",
       "    x.observe(notebookContainer, {childList: true});\n",
       "}}\n",
       "\n",
       "// Listen for the clearing of the current output cell\n",
       "var outputEl = gd.closest('.output');\n",
       "if (outputEl) {{\n",
       "    x.observe(outputEl, {childList: true});\n",
       "}}\n",
       "\n",
       "                        })                };                });            </script>        </div>"
      ]
     },
     "metadata": {},
     "output_type": "display_data"
    }
   ],
   "source": [
    "fig = px.line(df.sort_values(by='Fuel_Price', ascending=True), x = \"Fuel_Price\", y = \"Weekly_Sales\", color = 'Store' )\n",
    "fig.show()"
   ]
  },
  {
   "cell_type": "code",
   "execution_count": 178,
   "id": "240112b2",
   "metadata": {},
   "outputs": [
    {
     "data": {
      "image/png": "[encoded data removed]",
      "text/plain": [
       "<Figure size 500x300 with 2 Axes>"
      ]
     },
     "metadata": {},
     "output_type": "display_data"
    },
    {
     "data": {
      "text/plain": [
       "<Figure size 640x480 with 0 Axes>"
      ]
     },
     "metadata": {},
     "output_type": "display_data"
    }
   ],
   "source": [
    "correlation_matrix = df.corr()\n",
    "plt.figure(figsize=(5,3))\n",
    "sns.heatmap(correlation_matrix, cbar=True, fmt='.1f', annot=True, cmap='Blues')\n",
    "plt.show()\n",
    "plt.savefig('Correlation Heat map')\n"
   ]
  },
  {
   "cell_type": "markdown",
   "id": "23b3eff2",
   "metadata": {},
   "source": [
    "## Data Preprocessing "
   ]
  },
  {
   "cell_type": "markdown",
   "id": "be31dad1",
   "metadata": {},
   "source": [
    "- Categorical variables: Store, Holiday_Flag\n",
    "- Numerical variables : Temperature, Fuel_Price, CPI, Unemployment, Year, Month, Day\n",
    "\n",
    "Instead of using the SimpleImputer class from sklearn, I will designate custom imputers for each variable:\n",
    "- for missing values of temperature, I will be using the average temperature of the corresponding month from other years\n",
    "- for missing values of fuel_price, CPI and unemployment, I will be using the yearly averages\n",
    "- for missing values of Holiday_Flag I will check the other observations from the same date, and if these ones possesses the Holiday_Flag information, I will retrieve it from there."
   ]
  },
  {
   "cell_type": "code",
   "execution_count": 179,
   "id": "ad021d3b",
   "metadata": {},
   "outputs": [],
   "source": [
    "target = 'Weekly_Sales'\n",
    "features_list = [item for item in df.columns if item not in target]\n",
    "\n",
    "cat_features = ['Store', 'Holiday_Flag']\n",
    "num_features = ['Temperature','Fuel_Price', 'CPI','Unemployment']\n",
    "\n",
    "num_annual_means = ['Fuel_Price', 'CPI','Unemployment']\n",
    "num_seasonal_means = ['Temperature']\n",
    "cat_by_date = ['Holiday_Flag']"
   ]
  },
  {
   "cell_type": "code",
   "execution_count": 180,
   "id": "08fb308c",
   "metadata": {},
   "outputs": [],
   "source": [
    "df_train, df_test = train_test_split(df, test_size = 0.25, random_state = 42)"
   ]
  },
  {
   "cell_type": "code",
   "execution_count": 182,
   "id": "9ba0bfe2",
   "metadata": {},
   "outputs": [],
   "source": [
    "class CustomImputer(BaseEstimator, TransformerMixin):\n",
    "    def fit(self, X, y=None):\n",
    "        return self\n",
    "\n",
    "    def transform(self, X, y=None):\n",
    "        \n",
    "        #if we're dealing with numeric data:\n",
    "        for var in num_features :\n",
    "            lower_bound = X[var].mean(skipna = True) - 3 * X[var].std(skipna = True)\n",
    "            upper_bound = X[var].mean(skipna = True) + 3 * X[var].std(skipna = True)\n",
    "            \n",
    "            mask = (X[var].isna()) | ((X[var] > lower_bound) & (X[var] < upper_bound))\n",
    "            X = X[mask].reset_index(drop=True)\n",
    "            \n",
    "        for var in num_annual_means:\n",
    "            #dropping outliers by store, year before estimating annual means per store\n",
    "            #imputing means\n",
    "            X[var] = X[var].fillna(X.groupby(['Store', 'Year'])[var].transform('mean'))\n",
    "            \n",
    "        for var in num_seasonal_means: \n",
    "            #dropping outliers by store, month before estimating annual means per store\n",
    "            #imputing means\n",
    "            X[var] = X[var].fillna(X.groupby(['Store','Month'])[var].transform('mean'))\n",
    "            \n",
    "\n",
    "        #if we're dealing with categorical data \n",
    "        for var in cat_by_date: \n",
    "            X[var] = X[var].fillna(X.groupby('Date')[var].transform('mean')).astype(int, errors='ignore')\n",
    "        \n",
    "        #drop the values we couldn't impute\n",
    "        X = X.dropna()\n",
    "\n",
    "            #X = X[(X[var] > lower_bound) & (X[var] < upper_bound)]\n",
    "        \n",
    "        \n",
    "        return X\n",
    "    "
   ]
  },
  {
   "cell_type": "code",
   "execution_count": 183,
   "id": "2b1751c9",
   "metadata": {},
   "outputs": [],
   "source": [
    "imputer = Pipeline(\n",
    "    steps=[\n",
    "        (\"custom_imputer\", CustomImputer())\n",
    "    ]\n",
    ")\n",
    "\n",
    "imputed_train = imputer.fit_transform(df_train)\n",
    "imputed_test = imputer.transform(df_test)\n"
   ]
  },
  {
   "cell_type": "code",
   "execution_count": 184,
   "id": "2a069903",
   "metadata": {},
   "outputs": [],
   "source": [
    "num_transformer = Pipeline(steps =[\n",
    "    #(\"custom_imputer\", CustomNumericImputer()),\n",
    "    ('scaler', StandardScaler())\n",
    "])\n",
    "\n",
    "cat_transformer = Pipeline([\n",
    "    #(\"custom_imputer\", CustomCatImputer()),\n",
    "    ('encoder', OneHotEncoder(drop='first'))\n",
    "])\n",
    "\n",
    "preprocessor = ColumnTransformer(\n",
    "    transformers=[\n",
    "        #('imp', imputer, features_list),\n",
    "        ('num', num_transformer, num_features),\n",
    "        ('cat', cat_transformer, cat_features)#actually Holiday_Flag is already one-hot encoded but it's ok\n",
    "    ])"
   ]
  },
  {
   "cell_type": "code",
   "execution_count": 185,
   "id": "d955b553",
   "metadata": {},
   "outputs": [],
   "source": [
    "X_train, X_test, Y_train, Y_test = imputed_train[features_list], imputed_test[features_list], imputed_train[target], imputed_test[target]"
   ]
  },
  {
   "cell_type": "code",
   "execution_count": 186,
   "id": "647542b8",
   "metadata": {},
   "outputs": [],
   "source": [
    "X_train = preprocessor.fit_transform(X_train)\n",
    "X_test = preprocessor.transform(X_test)\n",
    "\n",
    "#this one worked, however, in small datasets like this one, it's in my opinion better to do column transformations before\n",
    "#train test split, because there is risk that the random split occurs in such a way that there may be categorical values\n",
    "#in the test set that did not appear in the train set, and hence not one-hot encoded.\n",
    "#in fact, this was the case for example when i used the random_seed 42 for train_test_split"
   ]
  },
  {
   "cell_type": "markdown",
   "id": "fd7e34c9",
   "metadata": {},
   "source": [
    "# PART 2 : BASELINE MODEL"
   ]
  },
  {
   "cell_type": "code",
   "execution_count": 187,
   "id": "463727cd",
   "metadata": {},
   "outputs": [
    {
     "data": {
      "text/html": [
       "<style>#sk-container-id-8 {color: black;}#sk-container-id-8 pre{padding: 0;}#sk-container-id-8 div.sk-toggleable {background-color: white;}#sk-container-id-8 label.sk-toggleable__label {cursor: pointer;display: block;width: 100%;margin-bottom: 0;padding: 0.3em;box-sizing: border-box;text-align: center;}#sk-container-id-8 label.sk-toggleable__label-arrow:before {content: \"▸\";float: left;margin-right: 0.25em;color: #696969;}#sk-container-id-8 label.sk-toggleable__label-arrow:hover:before {color: black;}#sk-container-id-8 div.sk-estimator:hover label.sk-toggleable__label-arrow:before {color: black;}#sk-container-id-8 div.sk-toggleable__content {max-height: 0;max-width: 0;overflow: hidden;text-align: left;background-color: #f0f8ff;}#sk-container-id-8 div.sk-toggleable__content pre {margin: 0.2em;color: black;border-radius: 0.25em;background-color: #f0f8ff;}#sk-container-id-8 input.sk-toggleable__control:checked~div.sk-toggleable__content {max-height: 200px;max-width: 100%;overflow: auto;}#sk-container-id-8 input.sk-toggleable__control:checked~label.sk-toggleable__label-arrow:before {content: \"▾\";}#sk-container-id-8 div.sk-estimator input.sk-toggleable__control:checked~label.sk-toggleable__label {background-color: #d4ebff;}#sk-container-id-8 div.sk-label input.sk-toggleable__control:checked~label.sk-toggleable__label {background-color: #d4ebff;}#sk-container-id-8 input.sk-hidden--visually {border: 0;clip: rect(1px 1px 1px 1px);clip: rect(1px, 1px, 1px, 1px);height: 1px;margin: -1px;overflow: hidden;padding: 0;position: absolute;width: 1px;}#sk-container-id-8 div.sk-estimator {font-family: monospace;background-color: #f0f8ff;border: 1px dotted black;border-radius: 0.25em;box-sizing: border-box;margin-bottom: 0.5em;}#sk-container-id-8 div.sk-estimator:hover {background-color: #d4ebff;}#sk-container-id-8 div.sk-parallel-item::after {content: \"\";width: 100%;border-bottom: 1px solid gray;flex-grow: 1;}#sk-container-id-8 div.sk-label:hover label.sk-toggleable__label {background-color: #d4ebff;}#sk-container-id-8 div.sk-serial::before {content: \"\";position: absolute;border-left: 1px solid gray;box-sizing: border-box;top: 0;bottom: 0;left: 50%;z-index: 0;}#sk-container-id-8 div.sk-serial {display: flex;flex-direction: column;align-items: center;background-color: white;padding-right: 0.2em;padding-left: 0.2em;position: relative;}#sk-container-id-8 div.sk-item {position: relative;z-index: 1;}#sk-container-id-8 div.sk-parallel {display: flex;align-items: stretch;justify-content: center;background-color: white;position: relative;}#sk-container-id-8 div.sk-item::before, #sk-container-id-8 div.sk-parallel-item::before {content: \"\";position: absolute;border-left: 1px solid gray;box-sizing: border-box;top: 0;bottom: 0;left: 50%;z-index: -1;}#sk-container-id-8 div.sk-parallel-item {display: flex;flex-direction: column;z-index: 1;position: relative;background-color: white;}#sk-container-id-8 div.sk-parallel-item:first-child::after {align-self: flex-end;width: 50%;}#sk-container-id-8 div.sk-parallel-item:last-child::after {align-self: flex-start;width: 50%;}#sk-container-id-8 div.sk-parallel-item:only-child::after {width: 0;}#sk-container-id-8 div.sk-dashed-wrapped {border: 1px dashed gray;margin: 0 0.4em 0.5em 0.4em;box-sizing: border-box;padding-bottom: 0.4em;background-color: white;}#sk-container-id-8 div.sk-label label {font-family: monospace;font-weight: bold;display: inline-block;line-height: 1.2em;}#sk-container-id-8 div.sk-label-container {text-align: center;}#sk-container-id-8 div.sk-container {/* jupyter's `normalize.less` sets `[hidden] { display: none; }` but bootstrap.min.css set `[hidden] { display: none !important; }` so we also need the `!important` here to be able to override the default hidden behavior on the sphinx rendered scikit-learn.org. See: https://github.com/scikit-learn/scikit-learn/issues/21755 */display: inline-block !important;position: relative;}#sk-container-id-8 div.sk-text-repr-fallback {display: none;}</style><div id=\"sk-container-id-8\" class=\"sk-top-container\"><div class=\"sk-text-repr-fallback\"><pre>LinearRegression()</pre><b>In a Jupyter environment, please rerun this cell to show the HTML representation or trust the notebook. <br />On GitHub, the HTML representation is unable to render, please try loading this page with nbviewer.org.</b></div><div class=\"sk-container\" hidden><div class=\"sk-item\"><div class=\"sk-estimator sk-toggleable\"><input class=\"sk-toggleable__control sk-hidden--visually\" id=\"sk-estimator-id-8\" type=\"checkbox\" checked><label for=\"sk-estimator-id-8\" class=\"sk-toggleable__label sk-toggleable__label-arrow\">LinearRegression</label><div class=\"sk-toggleable__content\"><pre>LinearRegression()</pre></div></div></div></div></div>"
      ],
      "text/plain": [
       "LinearRegression()"
      ]
     },
     "execution_count": 187,
     "metadata": {},
     "output_type": "execute_result"
    }
   ],
   "source": [
    "regressor = LinearRegression() \n",
    "regressor.fit(X_train, Y_train)"
   ]
  },
  {
   "cell_type": "code",
   "execution_count": 188,
   "id": "ac48f6b7",
   "metadata": {},
   "outputs": [],
   "source": [
    "Y_train_pred = regressor.predict(X_train)\n",
    "Y_test_pred = regressor.predict(X_test)"
   ]
  },
  {
   "cell_type": "code",
   "execution_count": 189,
   "id": "a20bc5f8",
   "metadata": {},
   "outputs": [
    {
     "name": "stdout",
     "output_type": "stream",
     "text": [
      "R2 score on training set :  0.962550092630623\n",
      "R2 score on test set :  0.9672037632260497\n"
     ]
    }
   ],
   "source": [
    "print(\"R2 score on training set : \", r2_score(Y_train, Y_train_pred))\n",
    "print(\"R2 score on test set : \", r2_score(Y_test, Y_test_pred))"
   ]
  },
  {
   "cell_type": "code",
   "execution_count": 190,
   "id": "f5ef455c",
   "metadata": {},
   "outputs": [],
   "source": [
    "column_names = []\n",
    "for name, transformer, features in preprocessor.transformers_[:-1]: # loop over pipelines\n",
    "    if name == 'num': \n",
    "        features = features \n",
    "    elif name == 'cat': # if pipeline is for categorical variables\n",
    "        features = transformer.named_steps['encoder'].get_feature_names_out() # get output columns names from OneHotEncoder\n",
    "    column_names.extend(features) # concatenate features names\n",
    "        "
   ]
  },
  {
   "cell_type": "code",
   "execution_count": 191,
   "id": "193f66a3",
   "metadata": {},
   "outputs": [
    {
     "data": {
      "text/html": [
       "<div>\n",
       "<style scoped>\n",
       "    .dataframe tbody tr th:only-of-type {\n",
       "        vertical-align: middle;\n",
       "    }\n",
       "\n",
       "    .dataframe tbody tr th {\n",
       "        vertical-align: top;\n",
       "    }\n",
       "\n",
       "    .dataframe thead th {\n",
       "        text-align: right;\n",
       "    }\n",
       "</style>\n",
       "<table border=\"1\" class=\"dataframe\">\n",
       "  <thead>\n",
       "    <tr style=\"text-align: right;\">\n",
       "      <th></th>\n",
       "      <th>coefficients</th>\n",
       "    </tr>\n",
       "  </thead>\n",
       "  <tbody>\n",
       "    <tr>\n",
       "      <th>Temperature</th>\n",
       "      <td>-39208.21</td>\n",
       "    </tr>\n",
       "    <tr>\n",
       "      <th>Fuel_Price</th>\n",
       "      <td>-98637.89</td>\n",
       "    </tr>\n",
       "    <tr>\n",
       "      <th>CPI</th>\n",
       "      <td>580240.67</td>\n",
       "    </tr>\n",
       "    <tr>\n",
       "      <th>Unemployment</th>\n",
       "      <td>-19615.44</td>\n",
       "    </tr>\n",
       "    <tr>\n",
       "      <th>Store_10</th>\n",
       "      <td>1847179.05</td>\n",
       "    </tr>\n",
       "    <tr>\n",
       "      <th>Store_11</th>\n",
       "      <td>158432.81</td>\n",
       "    </tr>\n",
       "    <tr>\n",
       "      <th>Store_13</th>\n",
       "      <td>1775250.93</td>\n",
       "    </tr>\n",
       "    <tr>\n",
       "      <th>Store_14</th>\n",
       "      <td>976844.30</td>\n",
       "    </tr>\n",
       "    <tr>\n",
       "      <th>Store_15</th>\n",
       "      <td>446172.84</td>\n",
       "    </tr>\n",
       "    <tr>\n",
       "      <th>Store_16</th>\n",
       "      <td>-696610.46</td>\n",
       "    </tr>\n",
       "    <tr>\n",
       "      <th>Store_17</th>\n",
       "      <td>589966.16</td>\n",
       "    </tr>\n",
       "    <tr>\n",
       "      <th>Store_18</th>\n",
       "      <td>889551.81</td>\n",
       "    </tr>\n",
       "    <tr>\n",
       "      <th>Store_19</th>\n",
       "      <td>1080625.27</td>\n",
       "    </tr>\n",
       "    <tr>\n",
       "      <th>Store_2</th>\n",
       "      <td>462268.02</td>\n",
       "    </tr>\n",
       "    <tr>\n",
       "      <th>Store_20</th>\n",
       "      <td>541160.92</td>\n",
       "    </tr>\n",
       "    <tr>\n",
       "      <th>Store_3</th>\n",
       "      <td>-1205910.42</td>\n",
       "    </tr>\n",
       "    <tr>\n",
       "      <th>Store_4</th>\n",
       "      <td>2024463.20</td>\n",
       "    </tr>\n",
       "    <tr>\n",
       "      <th>Store_5</th>\n",
       "      <td>-1210428.66</td>\n",
       "    </tr>\n",
       "    <tr>\n",
       "      <th>Store_6</th>\n",
       "      <td>77077.11</td>\n",
       "    </tr>\n",
       "    <tr>\n",
       "      <th>Store_7</th>\n",
       "      <td>-687724.63</td>\n",
       "    </tr>\n",
       "    <tr>\n",
       "      <th>Store_8</th>\n",
       "      <td>-730655.25</td>\n",
       "    </tr>\n",
       "    <tr>\n",
       "      <th>Store_9</th>\n",
       "      <td>-1122369.23</td>\n",
       "    </tr>\n",
       "    <tr>\n",
       "      <th>Holiday_Flag_1.0</th>\n",
       "      <td>-11246.94</td>\n",
       "    </tr>\n",
       "  </tbody>\n",
       "</table>\n",
       "</div>"
      ],
      "text/plain": [
       "                  coefficients\n",
       "Temperature          -39208.21\n",
       "Fuel_Price           -98637.89\n",
       "CPI                  580240.67\n",
       "Unemployment         -19615.44\n",
       "Store_10            1847179.05\n",
       "Store_11             158432.81\n",
       "Store_13            1775250.93\n",
       "Store_14             976844.30\n",
       "Store_15             446172.84\n",
       "Store_16            -696610.46\n",
       "Store_17             589966.16\n",
       "Store_18             889551.81\n",
       "Store_19            1080625.27\n",
       "Store_2              462268.02\n",
       "Store_20             541160.92\n",
       "Store_3            -1205910.42\n",
       "Store_4             2024463.20\n",
       "Store_5            -1210428.66\n",
       "Store_6               77077.11\n",
       "Store_7             -687724.63\n",
       "Store_8             -730655.25\n",
       "Store_9            -1122369.23\n",
       "Holiday_Flag_1.0     -11246.94"
      ]
     },
     "execution_count": 191,
     "metadata": {},
     "output_type": "execute_result"
    }
   ],
   "source": [
    "coefs = pd.DataFrame(index = column_names, data = regressor.coef_.transpose(), columns=[\"coefficients\"])\n",
    "pd.options.display.float_format = '{:.2f}'.format\n",
    "coefs"
   ]
  },
  {
   "cell_type": "code",
   "execution_count": 192,
   "id": "34f440ee",
   "metadata": {},
   "outputs": [
    {
     "data": {
      "text/plain": [
       "Text(0.5, 1.0, 'Feature Importance')"
      ]
     },
     "execution_count": 192,
     "metadata": {},
     "output_type": "execute_result"
    },
    {
     "data": {
      "image/png": "[encoded data removed]",
      "text/plain": [
       "<Figure size 600x400 with 1 Axes>"
      ]
     },
     "metadata": {},
     "output_type": "display_data"
    }
   ],
   "source": [
    "importance = pd.Series(np.abs(regressor.coef_.ravel()))\n",
    "importance.index = column_names\n",
    "importance.sort_values(inplace=True, ascending=False)\n",
    "importance.plot.bar(figsize=(6,4))\n",
    "plt.ylabel('Linear Regression Coefficients')\n",
    "plt.title('Feature Importance')"
   ]
  },
  {
   "cell_type": "code",
   "execution_count": 155,
   "id": "470ec0f0",
   "metadata": {},
   "outputs": [
    {
     "data": {
      "text/plain": [
       "array([False, False, False, False,  True, False,  True,  True, False,\n",
       "       False, False,  True,  True, False, False,  True,  True,  True,\n",
       "       False, False, False,  True, False])"
      ]
     },
     "execution_count": 155,
     "metadata": {},
     "output_type": "execute_result"
    }
   ],
   "source": [
    "from sklearn.feature_selection import SelectFromModel\n",
    "selector = SelectFromModel(estimator=LinearRegression()).fit(X_train, Y_train)\n",
    "selector.get_support()"
   ]
  },
  {
   "cell_type": "code",
   "execution_count": 158,
   "id": "8445b4ec",
   "metadata": {},
   "outputs": [
    {
     "data": {
      "text/plain": [
       "array(['Store_10', 'Store_13', 'Store_14', 'Store_18', 'Store_19',\n",
       "       'Store_3', 'Store_4', 'Store_5', 'Store_9'], dtype='<U16')"
      ]
     },
     "execution_count": 158,
     "metadata": {},
     "output_type": "execute_result"
    }
   ],
   "source": [
    "np.array(column_names)[selector.get_support()]"
   ]
  },
  {
   "cell_type": "markdown",
   "id": "38ce190c",
   "metadata": {},
   "source": [
    "# PART 3: REGULARIZATION"
   ]
  },
  {
   "cell_type": "markdown",
   "id": "aa8040cf",
   "metadata": {},
   "source": [
    "### Lasso Regularization"
   ]
  },
  {
   "cell_type": "code",
   "execution_count": 194,
   "id": "876e4ff6",
   "metadata": {},
   "outputs": [],
   "source": [
    "from sklearn.linear_model import Lasso"
   ]
  },
  {
   "cell_type": "code",
   "execution_count": 196,
   "id": "85fa9906",
   "metadata": {},
   "outputs": [
    {
     "name": "stdout",
     "output_type": "stream",
     "text": [
      "R2 score on training set :  0.9625498135048639\n",
      "R2 score on test set :  0.9671766980394116\n"
     ]
    }
   ],
   "source": [
    "lasso = Lasso(max_iter = 8000, random_state=42)\n",
    "lasso.fit(X_train, Y_train)\n",
    "\n",
    "Y_train_pred = lasso.predict(X_train)\n",
    "Y_test_pred = lasso.predict(X_test)\n",
    "\n",
    "print(\"R2 score on training set : \", r2_score(Y_train, Y_train_pred))\n",
    "print(\"R2 score on test set : \", r2_score(Y_test, Y_test_pred))"
   ]
  },
  {
   "cell_type": "code",
   "execution_count": 197,
   "id": "f7b6a3a1",
   "metadata": {},
   "outputs": [
    {
     "data": {
      "text/plain": [
       "Text(0.5, 1.0, 'Feature Importance')"
      ]
     },
     "execution_count": 197,
     "metadata": {},
     "output_type": "execute_result"
    },
    {
     "data": {
      "image/png": "[encoded data removed]",
      "text/plain": [
       "<Figure size 600x400 with 1 Axes>"
      ]
     },
     "metadata": {},
     "output_type": "display_data"
    }
   ],
   "source": [
    "importance = pd.Series(np.abs(lasso.coef_.ravel()))\n",
    "importance.index = column_names\n",
    "importance.sort_values(inplace=True, ascending=False)\n",
    "importance.plot.bar(figsize=(6,4))\n",
    "plt.ylabel('Lasso Regularization Coefficients')\n",
    "plt.title('Feature Importance')"
   ]
  },
  {
   "cell_type": "markdown",
   "id": "57ddae0b",
   "metadata": {},
   "source": [
    "### Ridge Regularization"
   ]
  },
  {
   "cell_type": "code",
   "execution_count": null,
   "id": "20b00b2b",
   "metadata": {},
   "outputs": [],
   "source": [
    "from sklearn.linear_model import Ridge"
   ]
  },
  {
   "cell_type": "code",
   "execution_count": 200,
   "id": "04e579c4",
   "metadata": {},
   "outputs": [
    {
     "name": "stdout",
     "output_type": "stream",
     "text": [
      "R2 score on training set :  0.9071716541939011\n",
      "R2 score on test set :  0.8985547978280024\n"
     ]
    }
   ],
   "source": [
    "ridge = Ridge(random_state = 42)\n",
    "ridge.fit(X_train, Y_train)\n",
    "\n",
    "Y_train_pred = ridge.predict(X_train)\n",
    "Y_test_pred = ridge.predict(X_test)\n",
    "\n",
    "print(\"R2 score on training set : \", r2_score(Y_train, Y_train_pred))\n",
    "print(\"R2 score on test set : \", r2_score(Y_test, Y_test_pred))"
   ]
  },
  {
   "cell_type": "code",
   "execution_count": 201,
   "id": "56219dd2",
   "metadata": {},
   "outputs": [
    {
     "data": {
      "text/plain": [
       "Text(0.5, 1.0, 'Feature Importance')"
      ]
     },
     "execution_count": 201,
     "metadata": {},
     "output_type": "execute_result"
    },
    {
     "data": {
      "image/png": "[encoded data removed]",
      "text/plain": [
       "<Figure size 600x400 with 1 Axes>"
      ]
     },
     "metadata": {},
     "output_type": "display_data"
    }
   ],
   "source": [
    "importance = pd.Series(np.abs(ridge.coef_.ravel()))\n",
    "importance.index = column_names\n",
    "importance.sort_values(inplace=True, ascending=False)\n",
    "importance.plot.bar(figsize=(6,4))\n",
    "plt.ylabel('Ridge Regularization Coefficients')\n",
    "plt.title('Feature Importance')"
   ]
  },
  {
   "cell_type": "markdown",
   "id": "0b478d2f",
   "metadata": {},
   "source": [
    "## Bonus : GridSearch"
   ]
  },
  {
   "cell_type": "code",
   "execution_count": 202,
   "id": "7ba8c73b",
   "metadata": {},
   "outputs": [
    {
     "data": {
      "text/html": [
       "<div>\n",
       "<style scoped>\n",
       "    .dataframe tbody tr th:only-of-type {\n",
       "        vertical-align: middle;\n",
       "    }\n",
       "\n",
       "    .dataframe tbody tr th {\n",
       "        vertical-align: top;\n",
       "    }\n",
       "\n",
       "    .dataframe thead th {\n",
       "        text-align: right;\n",
       "    }\n",
       "</style>\n",
       "<table border=\"1\" class=\"dataframe\">\n",
       "  <thead>\n",
       "    <tr style=\"text-align: right;\">\n",
       "      <th></th>\n",
       "      <th>Store</th>\n",
       "      <th>Date</th>\n",
       "      <th>Weekly_Sales</th>\n",
       "      <th>Holiday_Flag</th>\n",
       "      <th>Temperature</th>\n",
       "      <th>Fuel_Price</th>\n",
       "      <th>CPI</th>\n",
       "      <th>Unemployment</th>\n",
       "      <th>Day</th>\n",
       "      <th>Month</th>\n",
       "      <th>Year</th>\n",
       "    </tr>\n",
       "  </thead>\n",
       "  <tbody>\n",
       "    <tr>\n",
       "      <th>0</th>\n",
       "      <td>6</td>\n",
       "      <td>2011-02-18</td>\n",
       "      <td>1572117.54</td>\n",
       "      <td>NaN</td>\n",
       "      <td>59.61</td>\n",
       "      <td>3.04</td>\n",
       "      <td>214.78</td>\n",
       "      <td>6.86</td>\n",
       "      <td>18</td>\n",
       "      <td>2</td>\n",
       "      <td>2011</td>\n",
       "    </tr>\n",
       "    <tr>\n",
       "      <th>1</th>\n",
       "      <td>13</td>\n",
       "      <td>2011-03-25</td>\n",
       "      <td>1807545.43</td>\n",
       "      <td>0.00</td>\n",
       "      <td>42.38</td>\n",
       "      <td>3.44</td>\n",
       "      <td>128.62</td>\n",
       "      <td>7.47</td>\n",
       "      <td>25</td>\n",
       "      <td>3</td>\n",
       "      <td>2011</td>\n",
       "    </tr>\n",
       "    <tr>\n",
       "      <th>3</th>\n",
       "      <td>11</td>\n",
       "      <td>NaT</td>\n",
       "      <td>1244390.03</td>\n",
       "      <td>0.00</td>\n",
       "      <td>84.57</td>\n",
       "      <td>NaN</td>\n",
       "      <td>214.56</td>\n",
       "      <td>7.35</td>\n",
       "      <td>&lt;NA&gt;</td>\n",
       "      <td>&lt;NA&gt;</td>\n",
       "      <td>&lt;NA&gt;</td>\n",
       "    </tr>\n",
       "    <tr>\n",
       "      <th>4</th>\n",
       "      <td>6</td>\n",
       "      <td>2010-05-28</td>\n",
       "      <td>1644470.66</td>\n",
       "      <td>0.00</td>\n",
       "      <td>78.89</td>\n",
       "      <td>2.76</td>\n",
       "      <td>212.41</td>\n",
       "      <td>7.09</td>\n",
       "      <td>28</td>\n",
       "      <td>5</td>\n",
       "      <td>2010</td>\n",
       "    </tr>\n",
       "    <tr>\n",
       "      <th>5</th>\n",
       "      <td>4</td>\n",
       "      <td>2010-05-28</td>\n",
       "      <td>1857533.70</td>\n",
       "      <td>0.00</td>\n",
       "      <td>NaN</td>\n",
       "      <td>2.76</td>\n",
       "      <td>126.16</td>\n",
       "      <td>7.90</td>\n",
       "      <td>28</td>\n",
       "      <td>5</td>\n",
       "      <td>2010</td>\n",
       "    </tr>\n",
       "  </tbody>\n",
       "</table>\n",
       "</div>"
      ],
      "text/plain": [
       "  Store       Date  Weekly_Sales  Holiday_Flag  Temperature  Fuel_Price  \\\n",
       "0     6 2011-02-18    1572117.54           NaN        59.61        3.04   \n",
       "1    13 2011-03-25    1807545.43          0.00        42.38        3.44   \n",
       "3    11        NaT    1244390.03          0.00        84.57         NaN   \n",
       "4     6 2010-05-28    1644470.66          0.00        78.89        2.76   \n",
       "5     4 2010-05-28    1857533.70          0.00          NaN        2.76   \n",
       "\n",
       "     CPI  Unemployment   Day  Month  Year  \n",
       "0 214.78          6.86    18      2  2011  \n",
       "1 128.62          7.47    25      3  2011  \n",
       "3 214.56          7.35  <NA>   <NA>  <NA>  \n",
       "4 212.41          7.09    28      5  2010  \n",
       "5 126.16          7.90    28      5  2010  "
      ]
     },
     "execution_count": 202,
     "metadata": {},
     "output_type": "execute_result"
    }
   ],
   "source": [
    "df.head()"
   ]
  },
  {
   "cell_type": "code",
   "execution_count": 209,
   "id": "14c71139",
   "metadata": {},
   "outputs": [],
   "source": [
    "def test(models, data , iterations = 100):\n",
    "    results = {}\n",
    "    for i in models:\n",
    "        r2_train = []\n",
    "        r2_test = []\n",
    "        for j in range(iterations):\n",
    "            data = imputer.fit_transform(data)\n",
    "            ### here I performed imputation before split\n",
    "            data_train, data_test = train_test_split(data, test_size = 0.25) \n",
    "           \n",
    "            \n",
    "            Xtrain, Xtest, Ytrain, Ytest = imputed_train[features_list],imputed_test[features_list], imputed_train[target], imputed_test[target]\n",
    "            Xtrain = preprocessor.fit_transform(Xtrain)\n",
    "            Xtest = preprocessor.transform(Xtest)\n",
    "            \n",
    "                                                               \n",
    "            r2_test.append(r2_score(Ytest,\n",
    "                                            models[i].fit(Xtrain, \n",
    "                                                         Ytrain).predict(Xtest)))\n",
    "            r2_train.append(r2_score(Ytrain, \n",
    "                                             models[i].fit(Xtrain, \n",
    "                                                          Ytrain).predict(Xtrain)))\n",
    "        results[i] = [np.mean(r2_train), np.mean(r2_test)]\n",
    "    return pd.DataFrame(results)\n"
   ]
  },
  {
   "cell_type": "code",
   "execution_count": 212,
   "id": "fa89cdbe",
   "metadata": {},
   "outputs": [
    {
     "name": "stderr",
     "output_type": "stream",
     "text": [
      "/opt/anaconda3/lib/python3.9/site-packages/sklearn/metrics/_regression.py:996: UndefinedMetricWarning:\n",
      "\n",
      "R^2 score is not well-defined with less than two samples.\n",
      "\n",
      "/opt/anaconda3/lib/python3.9/site-packages/sklearn/metrics/_regression.py:996: UndefinedMetricWarning:\n",
      "\n",
      "R^2 score is not well-defined with less than two samples.\n",
      "\n",
      "/opt/anaconda3/lib/python3.9/site-packages/sklearn/metrics/_regression.py:996: UndefinedMetricWarning:\n",
      "\n",
      "R^2 score is not well-defined with less than two samples.\n",
      "\n",
      "/opt/anaconda3/lib/python3.9/site-packages/sklearn/metrics/_regression.py:996: UndefinedMetricWarning:\n",
      "\n",
      "R^2 score is not well-defined with less than two samples.\n",
      "\n",
      "/opt/anaconda3/lib/python3.9/site-packages/sklearn/metrics/_regression.py:996: UndefinedMetricWarning:\n",
      "\n",
      "R^2 score is not well-defined with less than two samples.\n",
      "\n",
      "/opt/anaconda3/lib/python3.9/site-packages/sklearn/metrics/_regression.py:996: UndefinedMetricWarning:\n",
      "\n",
      "R^2 score is not well-defined with less than two samples.\n",
      "\n",
      "/opt/anaconda3/lib/python3.9/site-packages/sklearn/metrics/_regression.py:996: UndefinedMetricWarning:\n",
      "\n",
      "R^2 score is not well-defined with less than two samples.\n",
      "\n",
      "/opt/anaconda3/lib/python3.9/site-packages/sklearn/metrics/_regression.py:996: UndefinedMetricWarning:\n",
      "\n",
      "R^2 score is not well-defined with less than two samples.\n",
      "\n",
      "/opt/anaconda3/lib/python3.9/site-packages/sklearn/metrics/_regression.py:996: UndefinedMetricWarning:\n",
      "\n",
      "R^2 score is not well-defined with less than two samples.\n",
      "\n",
      "/opt/anaconda3/lib/python3.9/site-packages/sklearn/metrics/_regression.py:996: UndefinedMetricWarning:\n",
      "\n",
      "R^2 score is not well-defined with less than two samples.\n",
      "\n",
      "/opt/anaconda3/lib/python3.9/site-packages/sklearn/metrics/_regression.py:996: UndefinedMetricWarning:\n",
      "\n",
      "R^2 score is not well-defined with less than two samples.\n",
      "\n",
      "/opt/anaconda3/lib/python3.9/site-packages/sklearn/metrics/_regression.py:996: UndefinedMetricWarning:\n",
      "\n",
      "R^2 score is not well-defined with less than two samples.\n",
      "\n",
      "/opt/anaconda3/lib/python3.9/site-packages/sklearn/metrics/_regression.py:996: UndefinedMetricWarning:\n",
      "\n",
      "R^2 score is not well-defined with less than two samples.\n",
      "\n",
      "/opt/anaconda3/lib/python3.9/site-packages/sklearn/metrics/_regression.py:996: UndefinedMetricWarning:\n",
      "\n",
      "R^2 score is not well-defined with less than two samples.\n",
      "\n",
      "/opt/anaconda3/lib/python3.9/site-packages/sklearn/metrics/_regression.py:996: UndefinedMetricWarning:\n",
      "\n",
      "R^2 score is not well-defined with less than two samples.\n",
      "\n",
      "/opt/anaconda3/lib/python3.9/site-packages/sklearn/metrics/_regression.py:996: UndefinedMetricWarning:\n",
      "\n",
      "R^2 score is not well-defined with less than two samples.\n",
      "\n",
      "/opt/anaconda3/lib/python3.9/site-packages/sklearn/metrics/_regression.py:996: UndefinedMetricWarning:\n",
      "\n",
      "R^2 score is not well-defined with less than two samples.\n",
      "\n",
      "/opt/anaconda3/lib/python3.9/site-packages/sklearn/metrics/_regression.py:996: UndefinedMetricWarning:\n",
      "\n",
      "R^2 score is not well-defined with less than two samples.\n",
      "\n",
      "/opt/anaconda3/lib/python3.9/site-packages/sklearn/metrics/_regression.py:996: UndefinedMetricWarning:\n",
      "\n",
      "R^2 score is not well-defined with less than two samples.\n",
      "\n",
      "/opt/anaconda3/lib/python3.9/site-packages/sklearn/metrics/_regression.py:996: UndefinedMetricWarning:\n",
      "\n",
      "R^2 score is not well-defined with less than two samples.\n",
      "\n",
      "/opt/anaconda3/lib/python3.9/site-packages/sklearn/metrics/_regression.py:996: UndefinedMetricWarning:\n",
      "\n",
      "R^2 score is not well-defined with less than two samples.\n",
      "\n",
      "/opt/anaconda3/lib/python3.9/site-packages/sklearn/metrics/_regression.py:996: UndefinedMetricWarning:\n",
      "\n",
      "R^2 score is not well-defined with less than two samples.\n",
      "\n",
      "/opt/anaconda3/lib/python3.9/site-packages/sklearn/metrics/_regression.py:996: UndefinedMetricWarning:\n",
      "\n",
      "R^2 score is not well-defined with less than two samples.\n",
      "\n",
      "/opt/anaconda3/lib/python3.9/site-packages/sklearn/metrics/_regression.py:996: UndefinedMetricWarning:\n",
      "\n",
      "R^2 score is not well-defined with less than two samples.\n",
      "\n",
      "/opt/anaconda3/lib/python3.9/site-packages/sklearn/metrics/_regression.py:996: UndefinedMetricWarning:\n",
      "\n",
      "R^2 score is not well-defined with less than two samples.\n",
      "\n",
      "/opt/anaconda3/lib/python3.9/site-packages/sklearn/model_selection/_search.py:979: UserWarning:\n",
      "\n",
      "One or more of the test scores are non-finite: [nan nan nan nan nan]\n",
      "\n"
     ]
    }
   ],
   "source": [
    "lasso_params = {'alpha':[0.001, 0.01, 0.1, 1, 10]}\n",
    "ridge_params = {'alpha':[0.001, 0.01, 0.1, 1, 10]}\n",
    "\n",
    "models = {'OLS': LinearRegression(),\n",
    "           'Lasso': GridSearchCV(Lasso(max_iter = 50000), #to ensure convergence\n",
    "                               param_grid=lasso_params, cv = 10).fit(X_train, Y_train).best_estimator_,\n",
    "           'Ridge': GridSearchCV(Ridge(), \n",
    "                               param_grid=ridge_params, cv = 10).fit(X_test, Y_test).best_estimator_}\n",
    "\n"
   ]
  },
  {
   "cell_type": "code",
   "execution_count": 211,
   "id": "911e6329",
   "metadata": {},
   "outputs": [
    {
     "data": {
      "text/html": [
       "<div>\n",
       "<style scoped>\n",
       "    .dataframe tbody tr th:only-of-type {\n",
       "        vertical-align: middle;\n",
       "    }\n",
       "\n",
       "    .dataframe tbody tr th {\n",
       "        vertical-align: top;\n",
       "    }\n",
       "\n",
       "    .dataframe thead th {\n",
       "        text-align: right;\n",
       "    }\n",
       "</style>\n",
       "<table border=\"1\" class=\"dataframe\">\n",
       "  <thead>\n",
       "    <tr style=\"text-align: right;\">\n",
       "      <th></th>\n",
       "      <th>OLS</th>\n",
       "      <th>Lasso</th>\n",
       "      <th>Ridge</th>\n",
       "    </tr>\n",
       "  </thead>\n",
       "  <tbody>\n",
       "    <tr>\n",
       "      <th>0</th>\n",
       "      <td>0.96</td>\n",
       "      <td>0.96</td>\n",
       "      <td>0.96</td>\n",
       "    </tr>\n",
       "    <tr>\n",
       "      <th>1</th>\n",
       "      <td>0.97</td>\n",
       "      <td>0.97</td>\n",
       "      <td>0.97</td>\n",
       "    </tr>\n",
       "  </tbody>\n",
       "</table>\n",
       "</div>"
      ],
      "text/plain": [
       "   OLS  Lasso  Ridge\n",
       "0 0.96   0.96   0.96\n",
       "1 0.97   0.97   0.97"
      ]
     },
     "execution_count": 211,
     "metadata": {},
     "output_type": "execute_result"
    }
   ],
   "source": [
    "test(models, df)"
   ]
  },
  {
   "cell_type": "code",
   "execution_count": null,
   "id": "463aeab0",
   "metadata": {},
   "outputs": [],
   "source": []
  }
 ],
 "metadata": {
  "kernelspec": {
   "display_name": "Python 3 (ipykernel)",
   "language": "python",
   "name": "python3"
  },
  "language_info": {
   "codemirror_mode": {
    "name": "ipython",
    "version": 3
   },
   "file_extension": ".py",
   "mimetype": "text/x-python",
   "name": "python",
   "nbconvert_exporter": "python",
   "pygments_lexer": "ipython3",
   "version": "3.9.13"
  }
 },
 "nbformat": 4,
 "nbformat_minor": 5
}
